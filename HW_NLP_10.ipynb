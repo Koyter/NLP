{
  "cells": [
    {
      "cell_type": "markdown",
      "source": [
        "Тема “Перевод без механизма внимания \n",
        "SEQ2SEQ модель”\n",
        "\n",
        "Разобраться с моделькой перевода (без механизма внимания) как она устроена, запустить для перевода с русского на английский (при желании можно взять другие пары языков)"
      ],
      "metadata": {
        "id": "7VGce5LbnzXq"
      }
    },
    {
      "cell_type": "code",
      "execution_count": 1,
      "metadata": {
        "id": "na_SaYy3EYrb"
      },
      "outputs": [],
      "source": [
        "import tensorflow as tf\n",
        "import matplotlib.pyplot as plt\n",
        "import matplotlib.ticker as ticker\n",
        "from sklearn.model_selection import train_test_split\n",
        "import numpy as np\n",
        "\n",
        "import unicodedata\n",
        "import re\n",
        "import os\n",
        "import io\n",
        "from pathlib import Path"
      ]
    },
    {
      "cell_type": "code",
      "execution_count": 2,
      "metadata": {
        "id": "X5A5d2Ff0OZo"
      },
      "outputs": [],
      "source": [
        "%%capture\n",
        "!wget http://www.manythings.org/anki/rus-eng.zip\n",
        "!rm ru_en -r\n",
        "!mkdir ru_en\n",
        "!unzip rus-eng.zip -d ru_en\n",
        "!rm rus-eng.zip"
      ]
    },
    {
      "cell_type": "code",
      "execution_count": 3,
      "metadata": {
        "colab": {
          "base_uri": "https://localhost:8080/"
        },
        "id": "yba2Oem00bBW",
        "outputId": "f019b325-a993-4b86-b92e-3b58c9b9cfab"
      },
      "outputs": [
        {
          "output_type": "stream",
          "name": "stdout",
          "text": [
            "_about.txt  rus.txt\n"
          ]
        }
      ],
      "source": [
        "!ls ru_en"
      ]
    },
    {
      "cell_type": "code",
      "execution_count": 4,
      "metadata": {
        "id": "Btc5C0-u1Ut4"
      },
      "outputs": [],
      "source": [
        "data_path = Path('/content/ru_en/rus.txt')"
      ]
    },
    {
      "cell_type": "code",
      "execution_count": 5,
      "metadata": {
        "id": "kxQkWZks1sF9"
      },
      "outputs": [],
      "source": [
        "def preprocess_sentence(w):\n",
        "  w = w.lower().strip()\n",
        "\n",
        "  # creating a space between a word and the punctuation following it\n",
        "  # eg: \"he is a boy.\" => \"he is a boy .\"\n",
        "  # Reference:- https://stackoverflow.com/questions/3645931/python-padding-punctuation-with-white-spaces-keeping-punctuation\n",
        "  w = re.sub(r\"([?.!,])\", r\" \\1 \", w)\n",
        "  w = re.sub(r'[\" \"]+', \" \", w)\n",
        "\n",
        "  # replacing everything with space except (a-z, A-Z, \".\", \"?\", \"!\", \",\")\n",
        "  w = re.sub(r\"[^a-zA-Zа-яА-Я?.!,']+\", \" \", w)\n",
        "\n",
        "  w = w.strip()\n",
        "\n",
        "  # adding a start and an end token to the sentence\n",
        "  # so that the model know when to start and stop predicting.\n",
        "  w = '<start> ' + w + ' <end>'\n",
        "  return w"
      ]
    },
    {
      "cell_type": "code",
      "execution_count": 6,
      "metadata": {
        "colab": {
          "base_uri": "https://localhost:8080/",
          "height": 35
        },
        "id": "WGhs-nC31_t2",
        "outputId": "7ed7a9e7-2d3c-492b-842e-ab52c61f5704"
      },
      "outputs": [
        {
          "output_type": "execute_result",
          "data": {
            "text/plain": [
              "'<start> this is example sentence . <end>'"
            ],
            "application/vnd.google.colaboratory.intrinsic+json": {
              "type": "string"
            }
          },
          "metadata": {},
          "execution_count": 6
        }
      ],
      "source": [
        "preprocess_sentence(\"This is example sentence.\")"
      ]
    },
    {
      "cell_type": "code",
      "execution_count": 7,
      "metadata": {
        "id": "7m1Ia92A2BzW"
      },
      "outputs": [],
      "source": [
        "def create_dataset(data_path: Path, num_examples: int) -> zip:\n",
        "  lines = data_path.read_text(encoding='UTF-8').strip().split('\\n')\n",
        "\n",
        "  word_pairs = [[preprocess_sentence(sent) for sent in line.split('\\t')[:2]] for line in lines[:num_examples]]\n",
        "\n",
        "  return zip(*word_pairs)\n",
        "\n",
        "def load_dataset(data_path: Path, num_examples: int) -> tuple:\n",
        "  # creating cleaned input, output pairs\n",
        "  target_lang, input_lang = create_dataset(data_path, num_examples)\n",
        "\n",
        "  input_tensor, input_lang_tokenizer = tokenize(input_lang)\n",
        "  target_tensor, target_lang_tokenizer = tokenize(target_lang)\n",
        "\n",
        "  return input_tensor, target_tensor, input_lang_tokenizer, target_lang_tokenizer\n",
        "\n",
        "def tokenize(lang):\n",
        "  lang_tokenizer = tf.keras.preprocessing.text.Tokenizer(filters='')\n",
        "  lang_tokenizer.fit_on_texts(lang)\n",
        "\n",
        "  tensor = lang_tokenizer.texts_to_sequences(lang)\n",
        "\n",
        "  tensor = tf.keras.preprocessing.sequence.pad_sequences(tensor, padding='post')\n",
        "\n",
        "  return tensor, lang_tokenizer"
      ]
    },
    {
      "cell_type": "code",
      "execution_count": 8,
      "metadata": {
        "colab": {
          "base_uri": "https://localhost:8080/"
        },
        "id": "lDYNwKzj3dPe",
        "outputId": "d7d573f2-14e5-428b-826e-96e8098040cb"
      },
      "outputs": [
        {
          "output_type": "stream",
          "name": "stdout",
          "text": [
            "len(en) = 451436, len(ru) = 451436\n",
            "<start> go . <end>\n",
            "<start> марш ! <end>\n"
          ]
        }
      ],
      "source": [
        "en, ru = create_dataset(data_path, None)\n",
        "print(f'len(en) = {len(en)}, len(ru) = {len(ru)}')\n",
        "print(en[0])\n",
        "print(ru[0])"
      ]
    },
    {
      "cell_type": "code",
      "execution_count": 9,
      "metadata": {
        "id": "DugZPHSZ53ZG"
      },
      "outputs": [],
      "source": [
        "NUM_EXAMPLES = 100000\n",
        "input_tensor, target_tensor, input_lang_tokenizer, target_lang_tokenizer = load_dataset(data_path, NUM_EXAMPLES)"
      ]
    },
    {
      "cell_type": "code",
      "execution_count": 10,
      "metadata": {
        "colab": {
          "base_uri": "https://localhost:8080/"
        },
        "id": "AWNWVSAy6qnn",
        "outputId": "1c676161-bd77-494e-b4c9-10fed3a15840"
      },
      "outputs": [
        {
          "output_type": "execute_result",
          "data": {
            "text/plain": [
              "(11, 15)"
            ]
          },
          "metadata": {},
          "execution_count": 10
        }
      ],
      "source": [
        "# Calculate max_length of the target tensors\n",
        "max_length_targ, max_length_inp = target_tensor.shape[1], input_tensor.shape[1]\n",
        "max_length_targ, max_length_inp"
      ]
    },
    {
      "cell_type": "code",
      "execution_count": 11,
      "metadata": {
        "colab": {
          "base_uri": "https://localhost:8080/"
        },
        "id": "Lo9P0Nxz7E_W",
        "outputId": "d2f91d47-8dad-43fd-d624-763a49d2d19e"
      },
      "outputs": [
        {
          "output_type": "stream",
          "name": "stdout",
          "text": [
            "80000 80000 20000 20000\n"
          ]
        }
      ],
      "source": [
        "# Creating training and validation sets using an 80-20 split\n",
        "input_tensor_train, input_tensor_val, target_tensor_train, target_tensor_val = train_test_split(input_tensor, target_tensor, test_size=0.2)\n",
        "\n",
        "# Show length\n",
        "print(len(input_tensor_train), len(target_tensor_train), len(input_tensor_val), len(target_tensor_val))"
      ]
    },
    {
      "cell_type": "code",
      "execution_count": 12,
      "metadata": {
        "colab": {
          "base_uri": "https://localhost:8080/"
        },
        "id": "oqZPqjR57Qh8",
        "outputId": "15701737-52ba-48ba-e8a4-f945b6a15cbe"
      },
      "outputs": [
        {
          "output_type": "stream",
          "name": "stdout",
          "text": [
            "Input Language; index to word mapping\n",
            "1 ----> <start>\n",
            "4 ----> я\n",
            "9322 ----> прослежу\n",
            "3 ----> .\n",
            "2 ----> <end>\n",
            "\n",
            "Target Language; index to word mapping\n",
            "1 ----> <start>\n",
            "38 ----> i'll\n",
            "174 ----> make\n",
            "263 ----> sure\n",
            "3 ----> .\n",
            "2 ----> <end>\n"
          ]
        }
      ],
      "source": [
        "def show_mapping(tokenizer, tensor):\n",
        "  for t in tensor:\n",
        "    if t!=0:\n",
        "      print (\"%d ----> %s\" % (t, tokenizer.index_word[t]))\n",
        "\n",
        "print (\"Input Language; index to word mapping\")\n",
        "show_mapping(input_lang_tokenizer, input_tensor_train[0])\n",
        "print ()\n",
        "print (\"Target Language; index to word mapping\")\n",
        "show_mapping(target_lang_tokenizer, target_tensor_train[0])"
      ]
    },
    {
      "cell_type": "code",
      "execution_count": 13,
      "metadata": {
        "id": "oDBPbCFo8L71"
      },
      "outputs": [],
      "source": [
        "BUFFER_SIZE = len(input_tensor_train)\n",
        "BATCH_SIZE = 64\n",
        "STEPS_PER_EPOCH = len(input_tensor_train)//BATCH_SIZE\n",
        "EMBEDDING_DIM = 300\n",
        "UNITS = 1024\n",
        "vocab_inp_size = len(input_lang_tokenizer.word_index)+1\n",
        "vocab_tar_size = len(target_lang_tokenizer.word_index)+1"
      ]
    },
    {
      "cell_type": "code",
      "source": [
        "dataset = tf.data.Dataset.from_tensor_slices((input_tensor_train, target_tensor_train)).shuffle(BUFFER_SIZE)\n",
        "dataset = dataset.batch(BATCH_SIZE, drop_remainder=True)"
      ],
      "metadata": {
        "id": "ABxCClf1NGEC"
      },
      "execution_count": 14,
      "outputs": []
    },
    {
      "cell_type": "code",
      "source": [
        "example_input_batch, example_target_batch = next(iter(dataset))\n",
        "example_input_batch.shape, example_target_batch.shape"
      ],
      "metadata": {
        "colab": {
          "base_uri": "https://localhost:8080/"
        },
        "id": "X2J7sl20NIxS",
        "outputId": "9e007886-f906-40fd-8fd0-870372199efd"
      },
      "execution_count": 15,
      "outputs": [
        {
          "output_type": "execute_result",
          "data": {
            "text/plain": [
              "(TensorShape([64, 15]), TensorShape([64, 11]))"
            ]
          },
          "metadata": {},
          "execution_count": 15
        }
      ]
    },
    {
      "cell_type": "code",
      "source": [
        "class Encoder(tf.keras.Model):\n",
        "    def __init__(self, vocab_size, embedding_dim, rnn_units, batch_size, with_attention=False):\n",
        "        super(Encoder, self).__init__()\n",
        "\n",
        "        self.batch_size = batch_size\n",
        "        self.rnn_units = rnn_units\n",
        "\n",
        "        self.embedding = tf.keras.layers.Embedding(vocab_size, embedding_dim)\n",
        "        self.gru = tf.keras.layers.GRU(self.rnn_units, return_sequences=with_attention, return_state=True, recurrent_initializer='glorot_uniform')\n",
        "\n",
        "    def call(self, x, hidden):\n",
        "        x = self.embedding(x)\n",
        "        output, state = self.gru(x, initial_state=hidden)\n",
        "        return state\n",
        "\n",
        "    def get_zero_hidden_state(self):\n",
        "        return tf.zeros((self.batch_size, self.rnn_units))"
      ],
      "metadata": {
        "id": "CX-krxs8NK1w"
      },
      "execution_count": 16,
      "outputs": []
    },
    {
      "cell_type": "code",
      "source": [
        "encoder = Encoder(vocab_inp_size, EMBEDDING_DIM, UNITS, BATCH_SIZE)"
      ],
      "metadata": {
        "id": "NnKxNGctNNxA"
      },
      "execution_count": 17,
      "outputs": []
    },
    {
      "cell_type": "code",
      "source": [
        "# sample input\n",
        "sample_hidden = encoder.get_zero_hidden_state()\n",
        "sample_hidden = encoder(example_input_batch, sample_hidden)\n",
        "print ('Encoder Hidden state shape: (batch size, units) {}'.format(sample_hidden.shape))"
      ],
      "metadata": {
        "colab": {
          "base_uri": "https://localhost:8080/"
        },
        "id": "hSBND3uiNP1j",
        "outputId": "56f9a3d7-23a2-4748-c445-a3da56524638"
      },
      "execution_count": 18,
      "outputs": [
        {
          "output_type": "stream",
          "name": "stdout",
          "text": [
            "Encoder Hidden state shape: (batch size, units) (64, 1024)\n"
          ]
        }
      ]
    },
    {
      "cell_type": "code",
      "source": [
        "class Decoder(tf.keras.Model):\n",
        "    def __init__(self, vocab_size, embedding_dim, rnn_units, batch_size):\n",
        "        super(Decoder, self).__init__()\n",
        "\n",
        "        self.batch_size = batch_size\n",
        "        self.rnn_units = rnn_units\n",
        "        \n",
        "        self.embedding = tf.keras.layers.Embedding(vocab_size, embedding_dim)\n",
        "        self.gru = tf.keras.layers.GRU(self.rnn_units, return_sequences=True, return_state=True, recurrent_initializer='glorot_uniform')\n",
        "        self.fc = tf.keras.layers.Dense(vocab_size)\n",
        "\n",
        "    def call(self, x, hidden):\n",
        "        # enc_output shape == (batch_size, max_length, hidden_size)\n",
        "        x = self.embedding(x) # x shape after passing through embedding == (batch_size, 1, embedding_dim)\n",
        "        output, state = self.gru(x, initial_state=hidden)\n",
        "        output = tf.reshape(output, (-1, output.shape[2])) # output shape == (batch_size * 1, hidden_size)\n",
        "        x = self.fc(output) # output shape == (batch_size, vocab)\n",
        "\n",
        "        return x, state"
      ],
      "metadata": {
        "id": "O_3Vb0mpNSzB"
      },
      "execution_count": 19,
      "outputs": []
    },
    {
      "cell_type": "code",
      "source": [
        "decoder = Decoder(vocab_tar_size, EMBEDDING_DIM, UNITS, BATCH_SIZE)"
      ],
      "metadata": {
        "id": "sKYVYpAANYSy"
      },
      "execution_count": 20,
      "outputs": []
    },
    {
      "cell_type": "code",
      "source": [
        "decoder_sample_x, decoder_sample_h = decoder(tf.random.uniform((BATCH_SIZE, 1)), sample_hidden)\n",
        "print(f'{decoder_sample_x.shape}')\n",
        "print(f'{decoder_sample_h.shape}')"
      ],
      "metadata": {
        "colab": {
          "base_uri": "https://localhost:8080/"
        },
        "id": "v8QE529tNaRm",
        "outputId": "aaf9a52d-b210-43b6-ed96-b2958a013473"
      },
      "execution_count": 21,
      "outputs": [
        {
          "output_type": "stream",
          "name": "stdout",
          "text": [
            "(64, 7335)\n",
            "(64, 1024)\n"
          ]
        }
      ]
    },
    {
      "cell_type": "code",
      "source": [
        "optimizer = tf.keras.optimizers.Adam()\n",
        "loss_object = tf.keras.losses.SparseCategoricalCrossentropy(from_logits=True, reduction='none')\n",
        "\n",
        "def loss_funcion(real, pred):\n",
        "    \n",
        "    loss_ = loss_object(real, pred)\n",
        "\n",
        "    mask = tf.math.logical_not(tf.math.equal(real, 0))\n",
        "    mask = tf.cast(mask, dtype=loss_.dtype)\n",
        "\n",
        "    loss_ *= mask\n",
        "\n",
        "    return tf.reduce_mean(loss_)"
      ],
      "metadata": {
        "id": "20SE0yz5Nd0n"
      },
      "execution_count": 22,
      "outputs": []
    },
    {
      "cell_type": "code",
      "source": [
        "@tf.function\n",
        "def train_step(input, target, encoder_hidden):\n",
        "    loss = 0\n",
        "\n",
        "    with tf.GradientTape() as tape:\n",
        "        encoder_hidden = encoder(input, encoder_hidden)\n",
        "\n",
        "        decoder_hidden = encoder_hidden\n",
        "\n",
        "        decoder_input = tf.expand_dims([target_lang_tokenizer.word_index['<start>']] * BATCH_SIZE, 1)\n",
        "\n",
        "        # Teacher forcing - feeding the target as the next input\n",
        "        for t in range(1, target.shape[1]):\n",
        "            # passing enc_output to the decoder\n",
        "            predictions, decoder_hidden = decoder(decoder_input, decoder_hidden)\n",
        "\n",
        "            loss += loss_funcion(target[:, t], predictions)\n",
        "\n",
        "            # using teacher forcing\n",
        "            decoder_input = tf.expand_dims(target[:, t], 1)\n",
        "\n",
        "    batch_loss = (loss / int(target.shape[1]))\n",
        "\n",
        "    variables = encoder.trainable_variables + decoder.trainable_variables\n",
        "\n",
        "    gradients = tape.gradient(loss, variables)\n",
        "\n",
        "    optimizer.apply_gradients(zip(gradients, variables))\n",
        "\n",
        "    return batch_loss"
      ],
      "metadata": {
        "id": "nA0g58KZNhP1"
      },
      "execution_count": 23,
      "outputs": []
    },
    {
      "cell_type": "code",
      "source": [
        "EPOCHS = 50\n",
        "\n",
        "for epoch in range(EPOCHS):\n",
        "    \n",
        "    encoder_hidden = encoder.get_zero_hidden_state()\n",
        "    total_loss = 0\n",
        "\n",
        "    for (batch, (input, target)) in enumerate(dataset.take(STEPS_PER_EPOCH)):\n",
        "      batch_loss = train_step(input, target, encoder_hidden)\n",
        "      total_loss += batch_loss\n",
        "\n",
        "      if batch % 100 == 0: print(f'Epoch {epoch+1} Batch {batch} Loss {batch_loss:.4f}')\n",
        "\n",
        "    print(f'Epoch {epoch+1} Batch {batch} Loss {total_loss / STEPS_PER_EPOCH:.4f}')"
      ],
      "metadata": {
        "colab": {
          "base_uri": "https://localhost:8080/"
        },
        "id": "PN6INylNNjip",
        "outputId": "ce6dc928-51ea-4c5e-b743-5749d5c5ba6e"
      },
      "execution_count": 24,
      "outputs": [
        {
          "output_type": "stream",
          "name": "stdout",
          "text": [
            "Epoch 1 Batch 0 Loss 4.5136\n",
            "Epoch 1 Batch 100 Loss 2.0369\n",
            "Epoch 1 Batch 200 Loss 1.9116\n",
            "Epoch 1 Batch 300 Loss 1.6086\n",
            "Epoch 1 Batch 400 Loss 1.4424\n",
            "Epoch 1 Batch 500 Loss 1.3796\n",
            "Epoch 1 Batch 600 Loss 1.3039\n",
            "Epoch 1 Batch 700 Loss 1.1726\n",
            "Epoch 1 Batch 800 Loss 1.1430\n",
            "Epoch 1 Batch 900 Loss 1.1927\n",
            "Epoch 1 Batch 1000 Loss 1.0589\n",
            "Epoch 1 Batch 1100 Loss 0.9558\n",
            "Epoch 1 Batch 1200 Loss 0.9683\n",
            "Epoch 1 Batch 1249 Loss 1.4021\n",
            "Epoch 2 Batch 0 Loss 0.7586\n",
            "Epoch 2 Batch 100 Loss 0.8149\n",
            "Epoch 2 Batch 200 Loss 0.7487\n",
            "Epoch 2 Batch 300 Loss 0.7502\n",
            "Epoch 2 Batch 400 Loss 0.6348\n",
            "Epoch 2 Batch 500 Loss 0.6098\n",
            "Epoch 2 Batch 600 Loss 0.6372\n",
            "Epoch 2 Batch 700 Loss 0.6161\n",
            "Epoch 2 Batch 800 Loss 0.6495\n",
            "Epoch 2 Batch 900 Loss 0.6156\n",
            "Epoch 2 Batch 1000 Loss 0.5468\n",
            "Epoch 2 Batch 1100 Loss 0.6064\n",
            "Epoch 2 Batch 1200 Loss 0.5857\n",
            "Epoch 2 Batch 1249 Loss 0.6690\n",
            "Epoch 3 Batch 0 Loss 0.3890\n",
            "Epoch 3 Batch 100 Loss 0.3527\n",
            "Epoch 3 Batch 200 Loss 0.3569\n",
            "Epoch 3 Batch 300 Loss 0.4140\n",
            "Epoch 3 Batch 400 Loss 0.3277\n",
            "Epoch 3 Batch 500 Loss 0.3433\n",
            "Epoch 3 Batch 600 Loss 0.3846\n",
            "Epoch 3 Batch 700 Loss 0.3884\n",
            "Epoch 3 Batch 800 Loss 0.2466\n",
            "Epoch 3 Batch 900 Loss 0.3345\n",
            "Epoch 3 Batch 1000 Loss 0.3113\n",
            "Epoch 3 Batch 1100 Loss 0.3467\n",
            "Epoch 3 Batch 1200 Loss 0.3967\n",
            "Epoch 3 Batch 1249 Loss 0.3598\n",
            "Epoch 4 Batch 0 Loss 0.1924\n",
            "Epoch 4 Batch 100 Loss 0.2271\n",
            "Epoch 4 Batch 200 Loss 0.1433\n",
            "Epoch 4 Batch 300 Loss 0.2103\n",
            "Epoch 4 Batch 400 Loss 0.2221\n",
            "Epoch 4 Batch 500 Loss 0.2106\n",
            "Epoch 4 Batch 600 Loss 0.2098\n",
            "Epoch 4 Batch 700 Loss 0.1703\n",
            "Epoch 4 Batch 800 Loss 0.2601\n",
            "Epoch 4 Batch 900 Loss 0.2348\n",
            "Epoch 4 Batch 1000 Loss 0.2970\n",
            "Epoch 4 Batch 1100 Loss 0.1753\n",
            "Epoch 4 Batch 1200 Loss 0.2236\n",
            "Epoch 4 Batch 1249 Loss 0.2172\n",
            "Epoch 5 Batch 0 Loss 0.1293\n",
            "Epoch 5 Batch 100 Loss 0.1189\n",
            "Epoch 5 Batch 200 Loss 0.1372\n",
            "Epoch 5 Batch 300 Loss 0.1434\n",
            "Epoch 5 Batch 400 Loss 0.1138\n",
            "Epoch 5 Batch 500 Loss 0.1550\n",
            "Epoch 5 Batch 600 Loss 0.1677\n",
            "Epoch 5 Batch 700 Loss 0.1064\n",
            "Epoch 5 Batch 800 Loss 0.1536\n",
            "Epoch 5 Batch 900 Loss 0.1728\n",
            "Epoch 5 Batch 1000 Loss 0.1494\n",
            "Epoch 5 Batch 1100 Loss 0.1269\n",
            "Epoch 5 Batch 1200 Loss 0.1487\n",
            "Epoch 5 Batch 1249 Loss 0.1505\n",
            "Epoch 6 Batch 0 Loss 0.0705\n",
            "Epoch 6 Batch 100 Loss 0.1003\n",
            "Epoch 6 Batch 200 Loss 0.1274\n",
            "Epoch 6 Batch 300 Loss 0.0733\n",
            "Epoch 6 Batch 400 Loss 0.1087\n",
            "Epoch 6 Batch 500 Loss 0.1063\n",
            "Epoch 6 Batch 600 Loss 0.1072\n",
            "Epoch 6 Batch 700 Loss 0.1396\n",
            "Epoch 6 Batch 800 Loss 0.0874\n",
            "Epoch 6 Batch 900 Loss 0.1251\n",
            "Epoch 6 Batch 1000 Loss 0.1113\n",
            "Epoch 6 Batch 1100 Loss 0.1166\n",
            "Epoch 6 Batch 1200 Loss 0.1155\n",
            "Epoch 6 Batch 1249 Loss 0.1170\n",
            "Epoch 7 Batch 0 Loss 0.0751\n",
            "Epoch 7 Batch 100 Loss 0.0916\n",
            "Epoch 7 Batch 200 Loss 0.0751\n",
            "Epoch 7 Batch 300 Loss 0.1232\n",
            "Epoch 7 Batch 400 Loss 0.0981\n",
            "Epoch 7 Batch 500 Loss 0.1008\n",
            "Epoch 7 Batch 600 Loss 0.1138\n",
            "Epoch 7 Batch 700 Loss 0.1326\n",
            "Epoch 7 Batch 800 Loss 0.0731\n",
            "Epoch 7 Batch 900 Loss 0.1093\n",
            "Epoch 7 Batch 1000 Loss 0.0881\n",
            "Epoch 7 Batch 1100 Loss 0.1025\n",
            "Epoch 7 Batch 1200 Loss 0.0997\n",
            "Epoch 7 Batch 1249 Loss 0.1016\n",
            "Epoch 8 Batch 0 Loss 0.0800\n",
            "Epoch 8 Batch 100 Loss 0.0480\n",
            "Epoch 8 Batch 200 Loss 0.0727\n",
            "Epoch 8 Batch 300 Loss 0.0874\n",
            "Epoch 8 Batch 400 Loss 0.0562\n",
            "Epoch 8 Batch 500 Loss 0.0723\n",
            "Epoch 8 Batch 600 Loss 0.0878\n",
            "Epoch 8 Batch 700 Loss 0.1113\n",
            "Epoch 8 Batch 800 Loss 0.0806\n",
            "Epoch 8 Batch 900 Loss 0.1271\n",
            "Epoch 8 Batch 1000 Loss 0.0835\n",
            "Epoch 8 Batch 1100 Loss 0.1417\n",
            "Epoch 8 Batch 1200 Loss 0.1172\n",
            "Epoch 8 Batch 1249 Loss 0.0919\n",
            "Epoch 9 Batch 0 Loss 0.0453\n",
            "Epoch 9 Batch 100 Loss 0.0322\n",
            "Epoch 9 Batch 200 Loss 0.0648\n",
            "Epoch 9 Batch 300 Loss 0.0595\n",
            "Epoch 9 Batch 400 Loss 0.0640\n",
            "Epoch 9 Batch 500 Loss 0.0800\n",
            "Epoch 9 Batch 600 Loss 0.0892\n",
            "Epoch 9 Batch 700 Loss 0.0845\n",
            "Epoch 9 Batch 800 Loss 0.0813\n",
            "Epoch 9 Batch 900 Loss 0.0752\n",
            "Epoch 9 Batch 1000 Loss 0.0814\n",
            "Epoch 9 Batch 1100 Loss 0.0896\n",
            "Epoch 9 Batch 1200 Loss 0.1106\n",
            "Epoch 9 Batch 1249 Loss 0.0858\n",
            "Epoch 10 Batch 0 Loss 0.0919\n",
            "Epoch 10 Batch 100 Loss 0.0747\n",
            "Epoch 10 Batch 200 Loss 0.0554\n",
            "Epoch 10 Batch 300 Loss 0.0448\n",
            "Epoch 10 Batch 400 Loss 0.0968\n",
            "Epoch 10 Batch 500 Loss 0.0649\n",
            "Epoch 10 Batch 600 Loss 0.0894\n",
            "Epoch 10 Batch 700 Loss 0.0747\n",
            "Epoch 10 Batch 800 Loss 0.0916\n",
            "Epoch 10 Batch 900 Loss 0.1208\n",
            "Epoch 10 Batch 1000 Loss 0.0726\n",
            "Epoch 10 Batch 1100 Loss 0.0787\n",
            "Epoch 10 Batch 1200 Loss 0.1158\n",
            "Epoch 10 Batch 1249 Loss 0.0810\n",
            "Epoch 11 Batch 0 Loss 0.0672\n",
            "Epoch 11 Batch 100 Loss 0.0724\n",
            "Epoch 11 Batch 200 Loss 0.0701\n",
            "Epoch 11 Batch 300 Loss 0.0658\n",
            "Epoch 11 Batch 400 Loss 0.0948\n",
            "Epoch 11 Batch 500 Loss 0.1014\n",
            "Epoch 11 Batch 600 Loss 0.0879\n",
            "Epoch 11 Batch 700 Loss 0.0879\n",
            "Epoch 11 Batch 800 Loss 0.0637\n",
            "Epoch 11 Batch 900 Loss 0.0750\n",
            "Epoch 11 Batch 1000 Loss 0.1111\n",
            "Epoch 11 Batch 1100 Loss 0.0745\n",
            "Epoch 11 Batch 1200 Loss 0.1037\n",
            "Epoch 11 Batch 1249 Loss 0.0785\n",
            "Epoch 12 Batch 0 Loss 0.0706\n",
            "Epoch 12 Batch 100 Loss 0.1009\n",
            "Epoch 12 Batch 200 Loss 0.0766\n",
            "Epoch 12 Batch 300 Loss 0.0442\n",
            "Epoch 12 Batch 400 Loss 0.0536\n",
            "Epoch 12 Batch 500 Loss 0.0657\n",
            "Epoch 12 Batch 600 Loss 0.0821\n",
            "Epoch 12 Batch 700 Loss 0.0827\n",
            "Epoch 12 Batch 800 Loss 0.0683\n",
            "Epoch 12 Batch 900 Loss 0.0866\n",
            "Epoch 12 Batch 1000 Loss 0.0996\n",
            "Epoch 12 Batch 1100 Loss 0.0876\n",
            "Epoch 12 Batch 1200 Loss 0.0879\n",
            "Epoch 12 Batch 1249 Loss 0.0758\n",
            "Epoch 13 Batch 0 Loss 0.0757\n",
            "Epoch 13 Batch 100 Loss 0.0585\n",
            "Epoch 13 Batch 200 Loss 0.1153\n",
            "Epoch 13 Batch 300 Loss 0.0503\n",
            "Epoch 13 Batch 400 Loss 0.0977\n",
            "Epoch 13 Batch 500 Loss 0.0936\n",
            "Epoch 13 Batch 600 Loss 0.0661\n",
            "Epoch 13 Batch 700 Loss 0.0513\n",
            "Epoch 13 Batch 800 Loss 0.0597\n",
            "Epoch 13 Batch 900 Loss 0.1078\n",
            "Epoch 13 Batch 1000 Loss 0.0815\n",
            "Epoch 13 Batch 1100 Loss 0.0670\n",
            "Epoch 13 Batch 1200 Loss 0.0825\n",
            "Epoch 13 Batch 1249 Loss 0.0734\n",
            "Epoch 14 Batch 0 Loss 0.0600\n",
            "Epoch 14 Batch 100 Loss 0.0822\n",
            "Epoch 14 Batch 200 Loss 0.0422\n",
            "Epoch 14 Batch 300 Loss 0.0424\n",
            "Epoch 14 Batch 400 Loss 0.0514\n",
            "Epoch 14 Batch 500 Loss 0.0380\n",
            "Epoch 14 Batch 600 Loss 0.0545\n",
            "Epoch 14 Batch 700 Loss 0.0607\n",
            "Epoch 14 Batch 800 Loss 0.0735\n",
            "Epoch 14 Batch 900 Loss 0.0917\n",
            "Epoch 14 Batch 1000 Loss 0.0664\n",
            "Epoch 14 Batch 1100 Loss 0.0886\n",
            "Epoch 14 Batch 1200 Loss 0.0686\n",
            "Epoch 14 Batch 1249 Loss 0.0718\n",
            "Epoch 15 Batch 0 Loss 0.0998\n",
            "Epoch 15 Batch 100 Loss 0.0420\n",
            "Epoch 15 Batch 200 Loss 0.0387\n",
            "Epoch 15 Batch 300 Loss 0.0803\n",
            "Epoch 15 Batch 400 Loss 0.0645\n",
            "Epoch 15 Batch 500 Loss 0.0700\n",
            "Epoch 15 Batch 600 Loss 0.0477\n",
            "Epoch 15 Batch 700 Loss 0.0590\n",
            "Epoch 15 Batch 800 Loss 0.0799\n",
            "Epoch 15 Batch 900 Loss 0.0669\n",
            "Epoch 15 Batch 1000 Loss 0.0817\n",
            "Epoch 15 Batch 1100 Loss 0.0575\n",
            "Epoch 15 Batch 1200 Loss 0.1062\n",
            "Epoch 15 Batch 1249 Loss 0.0708\n",
            "Epoch 16 Batch 0 Loss 0.0924\n",
            "Epoch 16 Batch 100 Loss 0.0426\n",
            "Epoch 16 Batch 200 Loss 0.0447\n",
            "Epoch 16 Batch 300 Loss 0.0799\n",
            "Epoch 16 Batch 400 Loss 0.0790\n",
            "Epoch 16 Batch 500 Loss 0.0673\n",
            "Epoch 16 Batch 600 Loss 0.0645\n",
            "Epoch 16 Batch 700 Loss 0.0365\n",
            "Epoch 16 Batch 800 Loss 0.0812\n",
            "Epoch 16 Batch 900 Loss 0.0711\n",
            "Epoch 16 Batch 1000 Loss 0.0804\n",
            "Epoch 16 Batch 1100 Loss 0.0602\n",
            "Epoch 16 Batch 1200 Loss 0.0889\n",
            "Epoch 16 Batch 1249 Loss 0.0687\n",
            "Epoch 17 Batch 0 Loss 0.0656\n",
            "Epoch 17 Batch 100 Loss 0.0494\n",
            "Epoch 17 Batch 200 Loss 0.0446\n",
            "Epoch 17 Batch 300 Loss 0.0804\n",
            "Epoch 17 Batch 400 Loss 0.0680\n",
            "Epoch 17 Batch 500 Loss 0.0657\n",
            "Epoch 17 Batch 600 Loss 0.0732\n",
            "Epoch 17 Batch 700 Loss 0.0748\n",
            "Epoch 17 Batch 800 Loss 0.0388\n",
            "Epoch 17 Batch 900 Loss 0.0497\n",
            "Epoch 17 Batch 1000 Loss 0.0629\n",
            "Epoch 17 Batch 1100 Loss 0.0669\n",
            "Epoch 17 Batch 1200 Loss 0.0883\n",
            "Epoch 17 Batch 1249 Loss 0.0678\n",
            "Epoch 18 Batch 0 Loss 0.0386\n",
            "Epoch 18 Batch 100 Loss 0.0265\n",
            "Epoch 18 Batch 200 Loss 0.0319\n",
            "Epoch 18 Batch 300 Loss 0.0651\n",
            "Epoch 18 Batch 400 Loss 0.0963\n",
            "Epoch 18 Batch 500 Loss 0.0755\n",
            "Epoch 18 Batch 600 Loss 0.0510\n",
            "Epoch 18 Batch 700 Loss 0.0789\n",
            "Epoch 18 Batch 800 Loss 0.0836\n",
            "Epoch 18 Batch 900 Loss 0.0539\n",
            "Epoch 18 Batch 1000 Loss 0.0403\n",
            "Epoch 18 Batch 1100 Loss 0.0583\n",
            "Epoch 18 Batch 1200 Loss 0.0662\n",
            "Epoch 18 Batch 1249 Loss 0.0663\n",
            "Epoch 19 Batch 0 Loss 0.0496\n",
            "Epoch 19 Batch 100 Loss 0.0465\n",
            "Epoch 19 Batch 200 Loss 0.0547\n",
            "Epoch 19 Batch 300 Loss 0.0607\n",
            "Epoch 19 Batch 400 Loss 0.0249\n",
            "Epoch 19 Batch 500 Loss 0.0836\n",
            "Epoch 19 Batch 600 Loss 0.0485\n",
            "Epoch 19 Batch 700 Loss 0.0357\n",
            "Epoch 19 Batch 800 Loss 0.0344\n",
            "Epoch 19 Batch 900 Loss 0.0663\n",
            "Epoch 19 Batch 1000 Loss 0.0533\n",
            "Epoch 19 Batch 1100 Loss 0.0520\n",
            "Epoch 19 Batch 1200 Loss 0.1227\n",
            "Epoch 19 Batch 1249 Loss 0.0658\n",
            "Epoch 20 Batch 0 Loss 0.0544\n",
            "Epoch 20 Batch 100 Loss 0.0464\n",
            "Epoch 20 Batch 200 Loss 0.0493\n",
            "Epoch 20 Batch 300 Loss 0.0622\n",
            "Epoch 20 Batch 400 Loss 0.0567\n",
            "Epoch 20 Batch 500 Loss 0.0723\n",
            "Epoch 20 Batch 600 Loss 0.0517\n",
            "Epoch 20 Batch 700 Loss 0.0330\n",
            "Epoch 20 Batch 800 Loss 0.1078\n",
            "Epoch 20 Batch 900 Loss 0.0772\n",
            "Epoch 20 Batch 1000 Loss 0.0795\n",
            "Epoch 20 Batch 1100 Loss 0.0635\n",
            "Epoch 20 Batch 1200 Loss 0.0997\n",
            "Epoch 20 Batch 1249 Loss 0.0644\n",
            "Epoch 21 Batch 0 Loss 0.0264\n",
            "Epoch 21 Batch 100 Loss 0.0443\n",
            "Epoch 21 Batch 200 Loss 0.0409\n",
            "Epoch 21 Batch 300 Loss 0.0426\n",
            "Epoch 21 Batch 400 Loss 0.0771\n",
            "Epoch 21 Batch 500 Loss 0.0745\n",
            "Epoch 21 Batch 600 Loss 0.0525\n",
            "Epoch 21 Batch 700 Loss 0.0514\n",
            "Epoch 21 Batch 800 Loss 0.0529\n",
            "Epoch 21 Batch 900 Loss 0.0386\n",
            "Epoch 21 Batch 1000 Loss 0.0334\n",
            "Epoch 21 Batch 1100 Loss 0.0592\n",
            "Epoch 21 Batch 1200 Loss 0.0614\n",
            "Epoch 21 Batch 1249 Loss 0.0634\n",
            "Epoch 22 Batch 0 Loss 0.0672\n",
            "Epoch 22 Batch 100 Loss 0.0355\n",
            "Epoch 22 Batch 200 Loss 0.0352\n",
            "Epoch 22 Batch 300 Loss 0.0510\n",
            "Epoch 22 Batch 400 Loss 0.0543\n",
            "Epoch 22 Batch 500 Loss 0.0401\n",
            "Epoch 22 Batch 600 Loss 0.0694\n",
            "Epoch 22 Batch 700 Loss 0.0456\n",
            "Epoch 22 Batch 800 Loss 0.0871\n",
            "Epoch 22 Batch 900 Loss 0.0891\n",
            "Epoch 22 Batch 1000 Loss 0.0589\n",
            "Epoch 22 Batch 1100 Loss 0.0857\n",
            "Epoch 22 Batch 1200 Loss 0.1100\n",
            "Epoch 22 Batch 1249 Loss 0.0628\n",
            "Epoch 23 Batch 0 Loss 0.0410\n",
            "Epoch 23 Batch 100 Loss 0.0633\n",
            "Epoch 23 Batch 200 Loss 0.0434\n",
            "Epoch 23 Batch 300 Loss 0.0513\n",
            "Epoch 23 Batch 400 Loss 0.0463\n",
            "Epoch 23 Batch 500 Loss 0.0512\n",
            "Epoch 23 Batch 600 Loss 0.0463\n",
            "Epoch 23 Batch 700 Loss 0.0489\n",
            "Epoch 23 Batch 800 Loss 0.0746\n",
            "Epoch 23 Batch 900 Loss 0.0992\n",
            "Epoch 23 Batch 1000 Loss 0.0853\n",
            "Epoch 23 Batch 1100 Loss 0.0702\n",
            "Epoch 23 Batch 1200 Loss 0.0976\n",
            "Epoch 23 Batch 1249 Loss 0.0618\n",
            "Epoch 24 Batch 0 Loss 0.0551\n",
            "Epoch 24 Batch 100 Loss 0.0521\n",
            "Epoch 24 Batch 200 Loss 0.0419\n",
            "Epoch 24 Batch 300 Loss 0.0445\n",
            "Epoch 24 Batch 400 Loss 0.0450\n",
            "Epoch 24 Batch 500 Loss 0.0480\n",
            "Epoch 24 Batch 600 Loss 0.0870\n",
            "Epoch 24 Batch 700 Loss 0.0353\n",
            "Epoch 24 Batch 800 Loss 0.0420\n",
            "Epoch 24 Batch 900 Loss 0.0729\n",
            "Epoch 24 Batch 1000 Loss 0.1112\n",
            "Epoch 24 Batch 1100 Loss 0.0689\n",
            "Epoch 24 Batch 1200 Loss 0.0536\n",
            "Epoch 24 Batch 1249 Loss 0.0613\n",
            "Epoch 25 Batch 0 Loss 0.0609\n",
            "Epoch 25 Batch 100 Loss 0.0526\n",
            "Epoch 25 Batch 200 Loss 0.0592\n",
            "Epoch 25 Batch 300 Loss 0.0348\n",
            "Epoch 25 Batch 400 Loss 0.0976\n",
            "Epoch 25 Batch 500 Loss 0.0790\n",
            "Epoch 25 Batch 600 Loss 0.0502\n",
            "Epoch 25 Batch 700 Loss 0.0639\n",
            "Epoch 25 Batch 800 Loss 0.0601\n",
            "Epoch 25 Batch 900 Loss 0.0969\n",
            "Epoch 25 Batch 1000 Loss 0.0875\n",
            "Epoch 25 Batch 1100 Loss 0.0466\n",
            "Epoch 25 Batch 1200 Loss 0.0568\n",
            "Epoch 25 Batch 1249 Loss 0.0614\n",
            "Epoch 26 Batch 0 Loss 0.0395\n",
            "Epoch 26 Batch 100 Loss 0.0553\n",
            "Epoch 26 Batch 200 Loss 0.0338\n",
            "Epoch 26 Batch 300 Loss 0.0313\n",
            "Epoch 26 Batch 400 Loss 0.0586\n",
            "Epoch 26 Batch 500 Loss 0.0391\n",
            "Epoch 26 Batch 600 Loss 0.0744\n",
            "Epoch 26 Batch 700 Loss 0.0647\n",
            "Epoch 26 Batch 800 Loss 0.0736\n",
            "Epoch 26 Batch 900 Loss 0.0910\n",
            "Epoch 26 Batch 1000 Loss 0.0681\n",
            "Epoch 26 Batch 1100 Loss 0.0933\n",
            "Epoch 26 Batch 1200 Loss 0.0885\n",
            "Epoch 26 Batch 1249 Loss 0.0598\n",
            "Epoch 27 Batch 0 Loss 0.0366\n",
            "Epoch 27 Batch 100 Loss 0.0599\n",
            "Epoch 27 Batch 200 Loss 0.0523\n",
            "Epoch 27 Batch 300 Loss 0.0439\n",
            "Epoch 27 Batch 400 Loss 0.0666\n",
            "Epoch 27 Batch 500 Loss 0.0750\n",
            "Epoch 27 Batch 600 Loss 0.0793\n",
            "Epoch 27 Batch 700 Loss 0.0730\n",
            "Epoch 27 Batch 800 Loss 0.0567\n",
            "Epoch 27 Batch 900 Loss 0.0589\n",
            "Epoch 27 Batch 1000 Loss 0.1301\n",
            "Epoch 27 Batch 1100 Loss 0.0454\n",
            "Epoch 27 Batch 1200 Loss 0.0683\n",
            "Epoch 27 Batch 1249 Loss 0.0591\n",
            "Epoch 28 Batch 0 Loss 0.0586\n",
            "Epoch 28 Batch 100 Loss 0.0333\n",
            "Epoch 28 Batch 200 Loss 0.0382\n",
            "Epoch 28 Batch 300 Loss 0.0541\n",
            "Epoch 28 Batch 400 Loss 0.0592\n",
            "Epoch 28 Batch 500 Loss 0.0920\n",
            "Epoch 28 Batch 600 Loss 0.0367\n",
            "Epoch 28 Batch 700 Loss 0.0767\n",
            "Epoch 28 Batch 800 Loss 0.0664\n",
            "Epoch 28 Batch 900 Loss 0.0633\n",
            "Epoch 28 Batch 1000 Loss 0.0797\n",
            "Epoch 28 Batch 1100 Loss 0.0779\n",
            "Epoch 28 Batch 1200 Loss 0.0379\n",
            "Epoch 28 Batch 1249 Loss 0.0576\n",
            "Epoch 29 Batch 0 Loss 0.0405\n",
            "Epoch 29 Batch 100 Loss 0.0349\n",
            "Epoch 29 Batch 200 Loss 0.0385\n",
            "Epoch 29 Batch 300 Loss 0.0605\n",
            "Epoch 29 Batch 400 Loss 0.0805\n",
            "Epoch 29 Batch 500 Loss 0.0578\n",
            "Epoch 29 Batch 600 Loss 0.0895\n",
            "Epoch 29 Batch 700 Loss 0.0916\n",
            "Epoch 29 Batch 800 Loss 0.0798\n",
            "Epoch 29 Batch 900 Loss 0.0640\n",
            "Epoch 29 Batch 1000 Loss 0.0547\n",
            "Epoch 29 Batch 1100 Loss 0.0412\n",
            "Epoch 29 Batch 1200 Loss 0.1008\n",
            "Epoch 29 Batch 1249 Loss 0.0578\n",
            "Epoch 30 Batch 0 Loss 0.0459\n",
            "Epoch 30 Batch 100 Loss 0.0515\n",
            "Epoch 30 Batch 200 Loss 0.0383\n",
            "Epoch 30 Batch 300 Loss 0.0694\n",
            "Epoch 30 Batch 400 Loss 0.0594\n",
            "Epoch 30 Batch 500 Loss 0.0824\n",
            "Epoch 30 Batch 600 Loss 0.0408\n",
            "Epoch 30 Batch 700 Loss 0.0770\n",
            "Epoch 30 Batch 800 Loss 0.0576\n",
            "Epoch 30 Batch 900 Loss 0.0600\n",
            "Epoch 30 Batch 1000 Loss 0.0812\n",
            "Epoch 30 Batch 1100 Loss 0.0781\n",
            "Epoch 30 Batch 1200 Loss 0.0813\n",
            "Epoch 30 Batch 1249 Loss 0.0572\n",
            "Epoch 31 Batch 0 Loss 0.0481\n",
            "Epoch 31 Batch 100 Loss 0.0594\n",
            "Epoch 31 Batch 200 Loss 0.0398\n",
            "Epoch 31 Batch 300 Loss 0.0514\n",
            "Epoch 31 Batch 400 Loss 0.0404\n",
            "Epoch 31 Batch 500 Loss 0.0504\n",
            "Epoch 31 Batch 600 Loss 0.0542\n",
            "Epoch 31 Batch 700 Loss 0.1019\n",
            "Epoch 31 Batch 800 Loss 0.0948\n",
            "Epoch 31 Batch 900 Loss 0.0714\n",
            "Epoch 31 Batch 1000 Loss 0.0432\n",
            "Epoch 31 Batch 1100 Loss 0.0696\n",
            "Epoch 31 Batch 1200 Loss 0.0505\n",
            "Epoch 31 Batch 1249 Loss 0.0562\n",
            "Epoch 32 Batch 0 Loss 0.0376\n",
            "Epoch 32 Batch 100 Loss 0.0382\n",
            "Epoch 32 Batch 200 Loss 0.0598\n",
            "Epoch 32 Batch 300 Loss 0.0586\n",
            "Epoch 32 Batch 400 Loss 0.0142\n",
            "Epoch 32 Batch 500 Loss 0.0593\n",
            "Epoch 32 Batch 600 Loss 0.0523\n",
            "Epoch 32 Batch 700 Loss 0.0725\n",
            "Epoch 32 Batch 800 Loss 0.0430\n",
            "Epoch 32 Batch 900 Loss 0.0566\n",
            "Epoch 32 Batch 1000 Loss 0.0633\n",
            "Epoch 32 Batch 1100 Loss 0.0688\n",
            "Epoch 32 Batch 1200 Loss 0.0539\n",
            "Epoch 32 Batch 1249 Loss 0.0564\n",
            "Epoch 33 Batch 0 Loss 0.0182\n",
            "Epoch 33 Batch 100 Loss 0.0431\n",
            "Epoch 33 Batch 200 Loss 0.0336\n",
            "Epoch 33 Batch 300 Loss 0.0302\n",
            "Epoch 33 Batch 400 Loss 0.0677\n",
            "Epoch 33 Batch 500 Loss 0.1058\n",
            "Epoch 33 Batch 600 Loss 0.0510\n",
            "Epoch 33 Batch 700 Loss 0.0341\n",
            "Epoch 33 Batch 800 Loss 0.0315\n",
            "Epoch 33 Batch 900 Loss 0.0488\n",
            "Epoch 33 Batch 1000 Loss 0.0607\n",
            "Epoch 33 Batch 1100 Loss 0.0825\n",
            "Epoch 33 Batch 1200 Loss 0.0835\n",
            "Epoch 33 Batch 1249 Loss 0.0556\n",
            "Epoch 34 Batch 0 Loss 0.0293\n",
            "Epoch 34 Batch 100 Loss 0.0344\n",
            "Epoch 34 Batch 200 Loss 0.0304\n",
            "Epoch 34 Batch 300 Loss 0.0689\n",
            "Epoch 34 Batch 400 Loss 0.0512\n",
            "Epoch 34 Batch 500 Loss 0.0754\n",
            "Epoch 34 Batch 600 Loss 0.0628\n",
            "Epoch 34 Batch 700 Loss 0.0571\n",
            "Epoch 34 Batch 800 Loss 0.0446\n",
            "Epoch 34 Batch 900 Loss 0.0590\n",
            "Epoch 34 Batch 1000 Loss 0.0970\n",
            "Epoch 34 Batch 1100 Loss 0.0387\n",
            "Epoch 34 Batch 1200 Loss 0.0367\n",
            "Epoch 34 Batch 1249 Loss 0.0549\n",
            "Epoch 35 Batch 0 Loss 0.0272\n",
            "Epoch 35 Batch 100 Loss 0.0460\n",
            "Epoch 35 Batch 200 Loss 0.0758\n",
            "Epoch 35 Batch 300 Loss 0.0560\n",
            "Epoch 35 Batch 400 Loss 0.0277\n",
            "Epoch 35 Batch 500 Loss 0.0577\n",
            "Epoch 35 Batch 600 Loss 0.0515\n",
            "Epoch 35 Batch 700 Loss 0.0639\n",
            "Epoch 35 Batch 800 Loss 0.0399\n",
            "Epoch 35 Batch 900 Loss 0.0616\n",
            "Epoch 35 Batch 1000 Loss 0.0520\n",
            "Epoch 35 Batch 1100 Loss 0.0539\n",
            "Epoch 35 Batch 1200 Loss 0.0326\n",
            "Epoch 35 Batch 1249 Loss 0.0547\n",
            "Epoch 36 Batch 0 Loss 0.0358\n",
            "Epoch 36 Batch 100 Loss 0.0359\n",
            "Epoch 36 Batch 200 Loss 0.0298\n",
            "Epoch 36 Batch 300 Loss 0.0518\n",
            "Epoch 36 Batch 400 Loss 0.0423\n",
            "Epoch 36 Batch 500 Loss 0.0302\n",
            "Epoch 36 Batch 600 Loss 0.0372\n",
            "Epoch 36 Batch 700 Loss 0.0567\n",
            "Epoch 36 Batch 800 Loss 0.0707\n",
            "Epoch 36 Batch 900 Loss 0.0423\n",
            "Epoch 36 Batch 1000 Loss 0.0415\n",
            "Epoch 36 Batch 1100 Loss 0.0909\n",
            "Epoch 36 Batch 1200 Loss 0.0386\n",
            "Epoch 36 Batch 1249 Loss 0.0548\n",
            "Epoch 37 Batch 0 Loss 0.0470\n",
            "Epoch 37 Batch 100 Loss 0.0489\n",
            "Epoch 37 Batch 200 Loss 0.0721\n",
            "Epoch 37 Batch 300 Loss 0.0449\n",
            "Epoch 37 Batch 400 Loss 0.0370\n",
            "Epoch 37 Batch 500 Loss 0.0686\n",
            "Epoch 37 Batch 600 Loss 0.0298\n",
            "Epoch 37 Batch 700 Loss 0.0377\n",
            "Epoch 37 Batch 800 Loss 0.0493\n",
            "Epoch 37 Batch 900 Loss 0.0745\n",
            "Epoch 37 Batch 1000 Loss 0.0967\n",
            "Epoch 37 Batch 1100 Loss 0.0755\n",
            "Epoch 37 Batch 1200 Loss 0.0343\n",
            "Epoch 37 Batch 1249 Loss 0.0538\n",
            "Epoch 38 Batch 0 Loss 0.0246\n",
            "Epoch 38 Batch 100 Loss 0.0415\n",
            "Epoch 38 Batch 200 Loss 0.0323\n",
            "Epoch 38 Batch 300 Loss 0.0476\n",
            "Epoch 38 Batch 400 Loss 0.0601\n",
            "Epoch 38 Batch 500 Loss 0.0477\n",
            "Epoch 38 Batch 600 Loss 0.0409\n",
            "Epoch 38 Batch 700 Loss 0.0700\n",
            "Epoch 38 Batch 800 Loss 0.0738\n",
            "Epoch 38 Batch 900 Loss 0.0481\n",
            "Epoch 38 Batch 1000 Loss 0.0667\n",
            "Epoch 38 Batch 1100 Loss 0.0671\n",
            "Epoch 38 Batch 1200 Loss 0.0849\n",
            "Epoch 38 Batch 1249 Loss 0.0536\n",
            "Epoch 39 Batch 0 Loss 0.0469\n",
            "Epoch 39 Batch 100 Loss 0.0262\n",
            "Epoch 39 Batch 200 Loss 0.0310\n",
            "Epoch 39 Batch 300 Loss 0.0462\n",
            "Epoch 39 Batch 400 Loss 0.0498\n",
            "Epoch 39 Batch 500 Loss 0.0333\n",
            "Epoch 39 Batch 600 Loss 0.0459\n",
            "Epoch 39 Batch 700 Loss 0.0289\n",
            "Epoch 39 Batch 800 Loss 0.0488\n",
            "Epoch 39 Batch 900 Loss 0.0703\n",
            "Epoch 39 Batch 1000 Loss 0.0601\n",
            "Epoch 39 Batch 1100 Loss 0.0769\n",
            "Epoch 39 Batch 1200 Loss 0.0773\n",
            "Epoch 39 Batch 1249 Loss 0.0525\n",
            "Epoch 40 Batch 0 Loss 0.0442\n",
            "Epoch 40 Batch 100 Loss 0.0569\n",
            "Epoch 40 Batch 200 Loss 0.0322\n",
            "Epoch 40 Batch 300 Loss 0.0378\n",
            "Epoch 40 Batch 400 Loss 0.0692\n",
            "Epoch 40 Batch 500 Loss 0.0571\n",
            "Epoch 40 Batch 600 Loss 0.0252\n",
            "Epoch 40 Batch 700 Loss 0.0271\n",
            "Epoch 40 Batch 800 Loss 0.0345\n",
            "Epoch 40 Batch 900 Loss 0.0471\n",
            "Epoch 40 Batch 1000 Loss 0.0485\n",
            "Epoch 40 Batch 1100 Loss 0.0543\n",
            "Epoch 40 Batch 1200 Loss 0.0661\n",
            "Epoch 40 Batch 1249 Loss 0.0526\n",
            "Epoch 41 Batch 0 Loss 0.0479\n",
            "Epoch 41 Batch 100 Loss 0.0289\n",
            "Epoch 41 Batch 200 Loss 0.0524\n",
            "Epoch 41 Batch 300 Loss 0.0476\n",
            "Epoch 41 Batch 400 Loss 0.0428\n",
            "Epoch 41 Batch 500 Loss 0.0541\n",
            "Epoch 41 Batch 600 Loss 0.0758\n",
            "Epoch 41 Batch 700 Loss 0.0536\n",
            "Epoch 41 Batch 800 Loss 0.0496\n",
            "Epoch 41 Batch 900 Loss 0.0652\n",
            "Epoch 41 Batch 1000 Loss 0.0215\n",
            "Epoch 41 Batch 1100 Loss 0.0732\n",
            "Epoch 41 Batch 1200 Loss 0.0454\n",
            "Epoch 41 Batch 1249 Loss 0.0522\n",
            "Epoch 42 Batch 0 Loss 0.0213\n",
            "Epoch 42 Batch 100 Loss 0.0459\n",
            "Epoch 42 Batch 200 Loss 0.0306\n",
            "Epoch 42 Batch 300 Loss 0.0530\n",
            "Epoch 42 Batch 400 Loss 0.0425\n",
            "Epoch 42 Batch 500 Loss 0.0236\n",
            "Epoch 42 Batch 600 Loss 0.0574\n",
            "Epoch 42 Batch 700 Loss 0.0345\n",
            "Epoch 42 Batch 800 Loss 0.0388\n",
            "Epoch 42 Batch 900 Loss 0.0444\n",
            "Epoch 42 Batch 1000 Loss 0.0521\n",
            "Epoch 42 Batch 1100 Loss 0.0399\n",
            "Epoch 42 Batch 1200 Loss 0.0625\n",
            "Epoch 42 Batch 1249 Loss 0.0512\n",
            "Epoch 43 Batch 0 Loss 0.0566\n",
            "Epoch 43 Batch 100 Loss 0.0649\n",
            "Epoch 43 Batch 200 Loss 0.0323\n",
            "Epoch 43 Batch 300 Loss 0.0545\n",
            "Epoch 43 Batch 400 Loss 0.0633\n",
            "Epoch 43 Batch 500 Loss 0.0416\n",
            "Epoch 43 Batch 600 Loss 0.0381\n",
            "Epoch 43 Batch 700 Loss 0.0312\n",
            "Epoch 43 Batch 800 Loss 0.0773\n",
            "Epoch 43 Batch 900 Loss 0.0428\n",
            "Epoch 43 Batch 1000 Loss 0.0360\n",
            "Epoch 43 Batch 1100 Loss 0.0623\n",
            "Epoch 43 Batch 1200 Loss 0.0603\n",
            "Epoch 43 Batch 1249 Loss 0.0516\n",
            "Epoch 44 Batch 0 Loss 0.0397\n",
            "Epoch 44 Batch 100 Loss 0.0468\n",
            "Epoch 44 Batch 200 Loss 0.0607\n",
            "Epoch 44 Batch 300 Loss 0.0607\n",
            "Epoch 44 Batch 400 Loss 0.0279\n",
            "Epoch 44 Batch 500 Loss 0.0390\n",
            "Epoch 44 Batch 600 Loss 0.0546\n",
            "Epoch 44 Batch 700 Loss 0.0411\n",
            "Epoch 44 Batch 800 Loss 0.0375\n",
            "Epoch 44 Batch 900 Loss 0.0410\n",
            "Epoch 44 Batch 1000 Loss 0.0564\n",
            "Epoch 44 Batch 1100 Loss 0.0915\n",
            "Epoch 44 Batch 1200 Loss 0.0355\n",
            "Epoch 44 Batch 1249 Loss 0.0513\n",
            "Epoch 45 Batch 0 Loss 0.0187\n",
            "Epoch 45 Batch 100 Loss 0.0266\n",
            "Epoch 45 Batch 200 Loss 0.0671\n",
            "Epoch 45 Batch 300 Loss 0.0456\n",
            "Epoch 45 Batch 400 Loss 0.0236\n",
            "Epoch 45 Batch 500 Loss 0.0225\n",
            "Epoch 45 Batch 600 Loss 0.0462\n",
            "Epoch 45 Batch 700 Loss 0.0468\n",
            "Epoch 45 Batch 800 Loss 0.0589\n",
            "Epoch 45 Batch 900 Loss 0.0405\n",
            "Epoch 45 Batch 1000 Loss 0.0466\n",
            "Epoch 45 Batch 1100 Loss 0.0823\n",
            "Epoch 45 Batch 1200 Loss 0.0501\n",
            "Epoch 45 Batch 1249 Loss 0.0511\n",
            "Epoch 46 Batch 0 Loss 0.0440\n",
            "Epoch 46 Batch 100 Loss 0.0463\n",
            "Epoch 46 Batch 200 Loss 0.0177\n",
            "Epoch 46 Batch 300 Loss 0.0363\n",
            "Epoch 46 Batch 400 Loss 0.0573\n",
            "Epoch 46 Batch 500 Loss 0.0372\n",
            "Epoch 46 Batch 600 Loss 0.0443\n",
            "Epoch 46 Batch 700 Loss 0.0592\n",
            "Epoch 46 Batch 800 Loss 0.0454\n",
            "Epoch 46 Batch 900 Loss 0.0678\n",
            "Epoch 46 Batch 1000 Loss 0.0303\n",
            "Epoch 46 Batch 1100 Loss 0.0817\n",
            "Epoch 46 Batch 1200 Loss 0.0403\n",
            "Epoch 46 Batch 1249 Loss 0.0505\n",
            "Epoch 47 Batch 0 Loss 0.0268\n",
            "Epoch 47 Batch 100 Loss 0.0164\n",
            "Epoch 47 Batch 200 Loss 0.0442\n",
            "Epoch 47 Batch 300 Loss 0.0354\n",
            "Epoch 47 Batch 400 Loss 0.0407\n",
            "Epoch 47 Batch 500 Loss 0.0308\n",
            "Epoch 47 Batch 600 Loss 0.0643\n",
            "Epoch 47 Batch 700 Loss 0.0411\n",
            "Epoch 47 Batch 800 Loss 0.0344\n",
            "Epoch 47 Batch 900 Loss 0.0506\n",
            "Epoch 47 Batch 1000 Loss 0.0553\n",
            "Epoch 47 Batch 1100 Loss 0.0885\n",
            "Epoch 47 Batch 1200 Loss 0.0376\n",
            "Epoch 47 Batch 1249 Loss 0.0500\n",
            "Epoch 48 Batch 0 Loss 0.0256\n",
            "Epoch 48 Batch 100 Loss 0.0355\n",
            "Epoch 48 Batch 200 Loss 0.0265\n",
            "Epoch 48 Batch 300 Loss 0.0355\n",
            "Epoch 48 Batch 400 Loss 0.0606\n",
            "Epoch 48 Batch 500 Loss 0.0449\n",
            "Epoch 48 Batch 600 Loss 0.0736\n",
            "Epoch 48 Batch 700 Loss 0.0517\n",
            "Epoch 48 Batch 800 Loss 0.0504\n",
            "Epoch 48 Batch 900 Loss 0.0421\n",
            "Epoch 48 Batch 1000 Loss 0.0692\n",
            "Epoch 48 Batch 1100 Loss 0.0437\n",
            "Epoch 48 Batch 1200 Loss 0.0690\n",
            "Epoch 48 Batch 1249 Loss 0.0500\n",
            "Epoch 49 Batch 0 Loss 0.0294\n",
            "Epoch 49 Batch 100 Loss 0.0334\n",
            "Epoch 49 Batch 200 Loss 0.0375\n",
            "Epoch 49 Batch 300 Loss 0.0297\n",
            "Epoch 49 Batch 400 Loss 0.0355\n",
            "Epoch 49 Batch 500 Loss 0.0444\n",
            "Epoch 49 Batch 600 Loss 0.0449\n",
            "Epoch 49 Batch 700 Loss 0.0581\n",
            "Epoch 49 Batch 800 Loss 0.0553\n",
            "Epoch 49 Batch 900 Loss 0.0823\n",
            "Epoch 49 Batch 1000 Loss 0.0299\n",
            "Epoch 49 Batch 1100 Loss 0.0640\n",
            "Epoch 49 Batch 1200 Loss 0.0626\n",
            "Epoch 49 Batch 1249 Loss 0.0490\n",
            "Epoch 50 Batch 0 Loss 0.0447\n",
            "Epoch 50 Batch 100 Loss 0.0347\n",
            "Epoch 50 Batch 200 Loss 0.0361\n",
            "Epoch 50 Batch 300 Loss 0.0405\n",
            "Epoch 50 Batch 400 Loss 0.0549\n",
            "Epoch 50 Batch 500 Loss 0.0519\n",
            "Epoch 50 Batch 600 Loss 0.0199\n",
            "Epoch 50 Batch 700 Loss 0.0441\n",
            "Epoch 50 Batch 800 Loss 0.0390\n",
            "Epoch 50 Batch 900 Loss 0.0429\n",
            "Epoch 50 Batch 1000 Loss 0.0205\n",
            "Epoch 50 Batch 1100 Loss 0.0313\n",
            "Epoch 50 Batch 1200 Loss 0.0518\n",
            "Epoch 50 Batch 1249 Loss 0.0491\n"
          ]
        }
      ]
    },
    {
      "cell_type": "code",
      "source": [
        "def evaluate(sentence):\n",
        "  attantion_plot = np.zeros((max_length_targ, max_length_inp))\n",
        "\n",
        "  sentence = preprocess_sentence(sentence)\n",
        "\n",
        "  inputs = [input_lang_tokenizer.word_index[i] for i in sentence.split(' ')]\n",
        "  inputs = tf.keras.preprocessing.sequence.pad_sequences([inputs], maxlen=max_length_inp, padding='post')\n",
        "  inputs = tf.convert_to_tensor(inputs)\n",
        "\n",
        "  result = ''\n",
        "\n",
        "  hidden = [tf.zeros((1, UNITS))]\n",
        "  enc_hidden = encoder(inputs, hidden)\n",
        "  dec_hidden = enc_hidden\n",
        "  dec_input = tf.expand_dims([target_lang_tokenizer.word_index['<start>']], 0)\n",
        "\n",
        "  for t in range(max_length_targ):\n",
        "    predictions, dec_hidden = decoder(dec_input, dec_hidden)\n",
        "\n",
        "    # storing the attention weights to plot later on\n",
        "    predicted_id = tf.argmax(predictions[0]).numpy()\n",
        "    result += target_lang_tokenizer.index_word[predicted_id] + ' '\n",
        "\n",
        "    if target_lang_tokenizer.index_word[predicted_id] == '<end>':\n",
        "      return result, sentence\n",
        "\n",
        "    # the predicted ID is fed back into the model\n",
        "    dec_input = tf.expand_dims([predicted_id], 0)\n",
        "\n",
        "  return result, sentence"
      ],
      "metadata": {
        "id": "iA8Y3jyINqrB"
      },
      "execution_count": 25,
      "outputs": []
    },
    {
      "cell_type": "code",
      "source": [
        "def translate(sentence):\n",
        "  result, sentence = evaluate(sentence)\n",
        "\n",
        "  print('Input: %s' % (sentence))\n",
        "  print('Predicted translation: {}'.format(result))"
      ],
      "metadata": {
        "id": "eaabYP2eUFmg"
      },
      "execution_count": 26,
      "outputs": []
    },
    {
      "cell_type": "markdown",
      "source": [
        "Проверка перевода"
      ],
      "metadata": {
        "id": "GNCU4we7obE7"
      }
    },
    {
      "cell_type": "code",
      "source": [
        "translate('Здесь хорошо.')"
      ],
      "metadata": {
        "colab": {
          "base_uri": "https://localhost:8080/"
        },
        "id": "70QkDOtmUSaa",
        "outputId": "31c1a8bc-2d8f-431b-bd28-03f2d7762fa7"
      },
      "execution_count": 27,
      "outputs": [
        {
          "output_type": "stream",
          "name": "stdout",
          "text": [
            "Input: <start> здесь хорошо . <end>\n",
            "Predicted translation: it's good here . <end> \n"
          ]
        }
      ]
    },
    {
      "cell_type": "code",
      "source": [
        "translate('я не смогу поехать.')"
      ],
      "metadata": {
        "colab": {
          "base_uri": "https://localhost:8080/"
        },
        "id": "yOlh2smfUVPC",
        "outputId": "08d5bd90-6016-4d56-c25f-4c1394cc892a"
      },
      "execution_count": 28,
      "outputs": [
        {
          "output_type": "stream",
          "name": "stdout",
          "text": [
            "Input: <start> я не смогу поехать . <end>\n",
            "Predicted translation: i can't go . <end> \n"
          ]
        }
      ]
    },
    {
      "cell_type": "code",
      "source": [
        "translate(u'Вы все еще дома?')"
      ],
      "metadata": {
        "colab": {
          "base_uri": "https://localhost:8080/"
        },
        "id": "1J0a1RV4ZH6o",
        "outputId": "4fa5397a-f73b-410d-d4ec-5ea71b495a5f"
      },
      "execution_count": 29,
      "outputs": [
        {
          "output_type": "stream",
          "name": "stdout",
          "text": [
            "Input: <start> вы еще дома ? <end>\n",
            "Predicted translation: are you still at home ? <end> \n"
          ]
        }
      ]
    }
  ],
  "metadata": {
    "colab": {
      "provenance": []
    },
    "kernelspec": {
      "display_name": "Python 3",
      "name": "python3"
    },
    "language_info": {
      "name": "python"
    },
    "gpuClass": "standard",
    "accelerator": "GPU"
  },
  "nbformat": 4,
  "nbformat_minor": 0
}