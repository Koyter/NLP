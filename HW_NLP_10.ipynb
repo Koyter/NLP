{
  "nbformat": 4,
  "nbformat_minor": 0,
  "metadata": {
    "colab": {
      "provenance": [],
      "authorship_tag": "ABX9TyOukfyQJbpeEzCpQ748tNVc"
    },
    "kernelspec": {
      "name": "python3",
      "display_name": "Python 3"
    },
    "language_info": {
      "name": "python"
    }
  },
  "cells": [
    {
      "cell_type": "markdown",
      "source": [
        "Заглушка"
      ],
      "metadata": {
        "id": "aAya6Gc0ckMa"
      }
    },
    {
      "cell_type": "code",
      "execution_count": null,
      "metadata": {
        "id": "GO1469Igchy0"
      },
      "outputs": [],
      "source": []
    }
  ]
}