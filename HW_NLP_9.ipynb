{
  "nbformat": 4,
  "nbformat_minor": 0,
  "metadata": {
    "colab": {
      "provenance": [],
      "authorship_tag": "ABX9TyOIkeHbvAOpeotdS+Vp6T4X"
    },
    "kernelspec": {
      "name": "python3",
      "display_name": "Python 3"
    },
    "language_info": {
      "name": "python"
    },
    "accelerator": "GPU",
    "gpuClass": "standard"
  },
  "cells": [
    {
      "cell_type": "markdown",
      "source": [
        "Тема “Генерация текстов (языковое моделирование)”\n",
        "\n",
        "Разобраться с моделькой генерации текста, собрать самим или взять датасет с вебинара и обучить генератор текстов\n"
      ],
      "metadata": {
        "id": "yCojHq9blixO"
      }
    },
    {
      "cell_type": "code",
      "execution_count": 1,
      "metadata": {
        "id": "mvrwrPpvxmEZ"
      },
      "outputs": [],
      "source": [
        "import tensorflow as tf\n",
        "import numpy as np\n",
        "from pathlib import Path\n",
        "from keras.callbacks import EarlyStopping"
      ]
    },
    {
      "cell_type": "code",
      "source": [
        "%%capture\n",
        "!wget https://www.dropbox.com/s/wfrfgaizixxwz3w/evgenyi_onegin.txt"
      ],
      "metadata": {
        "id": "2SLL-91Uqpuc"
      },
      "execution_count": 2,
      "outputs": []
    },
    {
      "cell_type": "code",
      "source": [
        "data_path = Path('evgenyi_onegin.txt')\n",
        "text = data_path.read_text()\n",
        "print(f'text lenght is {len(text)} chars')\n",
        "print(f'text sample:\\n {text[:500]}')"
      ],
      "metadata": {
        "colab": {
          "base_uri": "https://localhost:8080/"
        },
        "id": "CNyk1Bj9qszs",
        "outputId": "af0cf4e1-1252-4666-e3fd-91a138dcc855"
      },
      "execution_count": 3,
      "outputs": [
        {
          "output_type": "stream",
          "name": "stdout",
          "text": [
            "text lenght is 286984 chars\n",
            "text sample:\n",
            " Александр Сергеевич Пушкин\n",
            "\n",
            "                                Евгений Онегин\n",
            "                                Роман в стихах\n",
            "\n",
            "                        Не мысля гордый свет забавить,\n",
            "                        Вниманье дружбы возлюбя,\n",
            "                        Хотел бы я тебе представить\n",
            "                        Залог достойнее тебя,\n",
            "                        Достойнее души прекрасной,\n",
            "                        Святой исполненной мечты,\n",
            "                        Поэзии живой и ясной,\n",
            "                        Высо\n"
          ]
        }
      ]
    },
    {
      "cell_type": "code",
      "source": [
        "text = text + text"
      ],
      "metadata": {
        "id": "sSj9v71gquKk"
      },
      "execution_count": 4,
      "outputs": []
    },
    {
      "cell_type": "code",
      "source": [
        "# The unique characters in the file\n",
        "vocab = sorted(set(text))\n",
        "print(f'{len(vocab)} unique characters: \\n{np.array(vocab+[\"\"]).reshape(4, -1)}')"
      ],
      "metadata": {
        "colab": {
          "base_uri": "https://localhost:8080/"
        },
        "id": "FeLvEaZDqwrU",
        "outputId": "457decb2-585a-42ee-a7f8-d04c1287a175"
      },
      "execution_count": 5,
      "outputs": [
        {
          "output_type": "stream",
          "name": "stdout",
          "text": [
            "131 unique characters: \n",
            "[['\\n' ' ' '!' '\"' \"'\" '(' ')' ',' '-' '.' '0' '1' '2' '3' '4' '5' '6'\n",
            "  '7' '8' '9' ':' ';' '?' 'A' 'B' 'C' 'D' 'E' 'F' 'G' 'H' 'I' 'L']\n",
            " ['M' 'N' 'O' 'P' 'Q' 'R' 'S' 'T' 'V' 'W' 'X' 'Y' 'a' 'b' 'c' 'd' 'e' 'f'\n",
            "  'g' 'h' 'i' 'k' 'l' 'm' 'n' 'o' 'p' 'q' 'r' 's' 't' 'u' 'v']\n",
            " ['w' 'y' 'z' '{' '}' 'А' 'Б' 'В' 'Г' 'Д' 'Е' 'Ж' 'З' 'И' 'К' 'Л' 'М' 'Н'\n",
            "  'О' 'П' 'Р' 'С' 'Т' 'У' 'Ф' 'Х' 'Ц' 'Ч' 'Ш' 'Ь' 'Э' 'Ю' 'Я']\n",
            " ['а' 'б' 'в' 'г' 'д' 'е' 'ж' 'з' 'и' 'й' 'к' 'л' 'м' 'н' 'о' 'п' 'р' 'с'\n",
            "  'т' 'у' 'ф' 'х' 'ц' 'ч' 'ш' 'щ' 'ъ' 'ы' 'ь' 'э' 'ю' 'я' '']]\n"
          ]
        }
      ]
    },
    {
      "cell_type": "code",
      "source": [
        "# мэппинги 'символ <-> индекс'\n",
        "char2idx = {u:i for i, u in enumerate(vocab)}\n",
        "idx2char = np.array(vocab)"
      ],
      "metadata": {
        "id": "QJv1uzUkqyeE"
      },
      "execution_count": 6,
      "outputs": []
    },
    {
      "cell_type": "code",
      "source": [
        "text_as_int = np.array([char2idx[c] for c in text])\n",
        "list(zip(text_as_int, text))[:20]"
      ],
      "metadata": {
        "colab": {
          "base_uri": "https://localhost:8080/"
        },
        "id": "zMXWBORMqz-r",
        "outputId": "3292e1a4-6a39-4ec9-c39e-b5eeff28d42e"
      },
      "execution_count": 7,
      "outputs": [
        {
          "output_type": "execute_result",
          "data": {
            "text/plain": [
              "[(71, 'А'),\n",
              " (110, 'л'),\n",
              " (104, 'е'),\n",
              " (109, 'к'),\n",
              " (116, 'с'),\n",
              " (99, 'а'),\n",
              " (112, 'н'),\n",
              " (103, 'д'),\n",
              " (115, 'р'),\n",
              " (1, ' '),\n",
              " (87, 'С'),\n",
              " (104, 'е'),\n",
              " (115, 'р'),\n",
              " (102, 'г'),\n",
              " (104, 'е'),\n",
              " (104, 'е'),\n",
              " (101, 'в'),\n",
              " (107, 'и'),\n",
              " (122, 'ч'),\n",
              " (1, ' ')]"
            ]
          },
          "metadata": {},
          "execution_count": 7
        }
      ]
    },
    {
      "cell_type": "code",
      "source": [
        "# Create training examples / targets\n",
        "char_dataset = tf.data.Dataset.from_tensor_slices(text_as_int)\n",
        "# проверка обратного преобразования тензора\n",
        "[idx2char[i.numpy()] for i in char_dataset.take(10)]"
      ],
      "metadata": {
        "colab": {
          "base_uri": "https://localhost:8080/"
        },
        "id": "K0U-ch6bq1Gs",
        "outputId": "fb595c7a-c5fa-4ad5-bad2-aab1ba0ca883"
      },
      "execution_count": 8,
      "outputs": [
        {
          "output_type": "execute_result",
          "data": {
            "text/plain": [
              "['А', 'л', 'е', 'к', 'с', 'а', 'н', 'д', 'р', ' ']"
            ]
          },
          "metadata": {},
          "execution_count": 8
        }
      ]
    },
    {
      "cell_type": "code",
      "source": [
        "# The maximum length sentence for a single input in characters\n",
        "seq_length = 100\n",
        "\n",
        "sequences = char_dataset.batch(seq_length+1, drop_remainder=True)\n",
        "[idx2char[i.numpy()] for i in sequences.take(1)]"
      ],
      "metadata": {
        "colab": {
          "base_uri": "https://localhost:8080/"
        },
        "id": "6FUsIf0Vq2Zc",
        "outputId": "abc5bed4-2536-45a1-8c0b-5e9f0a4e3118"
      },
      "execution_count": 9,
      "outputs": [
        {
          "output_type": "execute_result",
          "data": {
            "text/plain": [
              "[array(['А', 'л', 'е', 'к', 'с', 'а', 'н', 'д', 'р', ' ', 'С', 'е', 'р',\n",
              "        'г', 'е', 'е', 'в', 'и', 'ч', ' ', 'П', 'у', 'ш', 'к', 'и', 'н',\n",
              "        '\\n', '\\n', ' ', ' ', ' ', ' ', ' ', ' ', ' ', ' ', ' ', ' ', ' ',\n",
              "        ' ', ' ', ' ', ' ', ' ', ' ', ' ', ' ', ' ', ' ', ' ', ' ', ' ',\n",
              "        ' ', ' ', ' ', ' ', ' ', ' ', ' ', ' ', 'Е', 'в', 'г', 'е', 'н',\n",
              "        'и', 'й', ' ', 'О', 'н', 'е', 'г', 'и', 'н', '\\n', ' ', ' ', ' ',\n",
              "        ' ', ' ', ' ', ' ', ' ', ' ', ' ', ' ', ' ', ' ', ' ', ' ', ' ',\n",
              "        ' ', ' ', ' ', ' ', ' ', ' ', ' ', ' ', ' ', ' '], dtype='<U1')]"
            ]
          },
          "metadata": {},
          "execution_count": 9
        }
      ]
    },
    {
      "cell_type": "code",
      "source": [
        "def split_input_target(chunk):\n",
        "    input_text = chunk[:-1]\n",
        "    target_text = chunk[1:]\n",
        "    return input_text, target_text\n",
        "\n",
        "dataset = sequences.map(split_input_target)"
      ],
      "metadata": {
        "id": "Aycq-N3dq3h8"
      },
      "execution_count": 10,
      "outputs": []
    },
    {
      "cell_type": "code",
      "source": [
        "for input_example, target_example in  dataset.take(1):\n",
        "    print('Input data: ', repr(''.join(idx2char[input_example.numpy()])))\n",
        "    print('Target data:', repr(''.join(idx2char[target_example.numpy()])))"
      ],
      "metadata": {
        "colab": {
          "base_uri": "https://localhost:8080/"
        },
        "id": "bL7iE02Qq5D8",
        "outputId": "d21cf386-0775-4a37-b976-d5bda0d2fe0c"
      },
      "execution_count": 11,
      "outputs": [
        {
          "output_type": "stream",
          "name": "stdout",
          "text": [
            "Input data:  'Александр Сергеевич Пушкин\\n\\n                                Евгений Онегин\\n                         '\n",
            "Target data: 'лександр Сергеевич Пушкин\\n\\n                                Евгений Онегин\\n                          '\n"
          ]
        }
      ]
    },
    {
      "cell_type": "code",
      "source": [
        "# Batch size\n",
        "BATCH_SIZE = 64\n",
        "# Buffer size to shuffle the dataset\n",
        "# (TF data is designed to work with possibly infinite sequences,\n",
        "# so it doesn't attempt to shuffle the entire sequence in memory. Instead,\n",
        "# it maintains a buffer in which it shuffles elements).\n",
        "BUFFER_SIZE = 10000\n",
        "EPOCHS = 20"
      ],
      "metadata": {
        "id": "KwsM71lsq6Ej"
      },
      "execution_count": 12,
      "outputs": []
    },
    {
      "cell_type": "code",
      "source": [
        "dataset = dataset.shuffle(BUFFER_SIZE).batch(BATCH_SIZE, drop_remainder=True)\n",
        "dataset"
      ],
      "metadata": {
        "colab": {
          "base_uri": "https://localhost:8080/"
        },
        "id": "EkUJAIRgq7KE",
        "outputId": "be21f84c-f85a-4324-9d21-f0d3d701b468"
      },
      "execution_count": 13,
      "outputs": [
        {
          "output_type": "execute_result",
          "data": {
            "text/plain": [
              "<BatchDataset element_spec=(TensorSpec(shape=(64, 100), dtype=tf.int64, name=None), TensorSpec(shape=(64, 100), dtype=tf.int64, name=None))>"
            ]
          },
          "metadata": {},
          "execution_count": 13
        }
      ]
    },
    {
      "cell_type": "code",
      "source": [
        "# Length of the vocabulary in chars\n",
        "vocab_size = len(vocab)\n",
        "\n",
        "# The embedding dimension\n",
        "embedding_dim = 128\n",
        "\n",
        "# Number of RNN units\n",
        "rnn_units = 1024\n",
        "\n",
        "# loss function sparse_categorical_crossentropy\n",
        "def loss(labels, logits):\n",
        "    return tf.keras.losses.sparse_categorical_crossentropy(labels, logits, from_logits=True)"
      ],
      "metadata": {
        "id": "o4mQQdLJq8Kx"
      },
      "execution_count": 14,
      "outputs": []
    },
    {
      "cell_type": "markdown",
      "source": [
        "Сетка с GRU"
      ],
      "metadata": {
        "id": "kaJMZo9Tq_GC"
      }
    },
    {
      "cell_type": "code",
      "source": [
        "class GRUgenerator(tf.keras.Model):\n",
        "    def __init__(self, vocab_size, embedding_dim, batch_size):\n",
        "        super(GRUgenerator, self).__init__()\n",
        "        \n",
        "        self.emb = tf.keras.layers.Embedding(vocab_size, embedding_dim)\n",
        "                                 \n",
        "        self.gru1 = tf.keras.layers.GRU(rnn_units,\n",
        "                            return_sequences=True,\n",
        "                            recurrent_initializer='glorot_uniform')\n",
        "        self.gru2 = tf.keras.layers.GRU(rnn_units,\n",
        "                            return_sequences=True,\n",
        "                            recurrent_initializer='glorot_uniform')\n",
        "                           \n",
        "        self.fc = tf.keras.layers.Dense(vocab_size)\n",
        "\n",
        "    def call(self, x):\n",
        "        emb_x = self.emb(x)\n",
        "        x1 = self.gru1(emb_x)\n",
        "        x = x1\n",
        "        for _ in range(3):\n",
        "            x = self.gru2(x)\n",
        "\n",
        "        x = (x + x1)/2\n",
        "        return self.fc(x)\n",
        "\n",
        "model_gru = GRUgenerator(vocab_size, embedding_dim, BATCH_SIZE)\n",
        "\n",
        "model_gru.compile(optimizer='adam', loss=loss)"
      ],
      "metadata": {
        "id": "PZo5sDrXq9XU"
      },
      "execution_count": 15,
      "outputs": []
    },
    {
      "cell_type": "code",
      "source": [
        "history = model_gru.fit(dataset, epochs=EPOCHS)"
      ],
      "metadata": {
        "colab": {
          "base_uri": "https://localhost:8080/"
        },
        "id": "qjF0NifXrAuD",
        "outputId": "63b1be5a-ea22-4c31-b58f-0d16090928f2"
      },
      "execution_count": 16,
      "outputs": [
        {
          "output_type": "stream",
          "name": "stdout",
          "text": [
            "Epoch 1/20\n",
            "88/88 [==============================] - 40s 243ms/step - loss: 2.0685\n",
            "Epoch 2/20\n",
            "88/88 [==============================] - 22s 247ms/step - loss: 1.5170\n",
            "Epoch 3/20\n",
            "88/88 [==============================] - 23s 250ms/step - loss: 1.3515\n",
            "Epoch 4/20\n",
            "88/88 [==============================] - 23s 252ms/step - loss: 1.2828\n",
            "Epoch 5/20\n",
            "88/88 [==============================] - 23s 255ms/step - loss: 1.2390\n",
            "Epoch 6/20\n",
            "88/88 [==============================] - 23s 258ms/step - loss: 1.1940\n",
            "Epoch 7/20\n",
            "88/88 [==============================] - 23s 258ms/step - loss: 1.1578\n",
            "Epoch 8/20\n",
            "88/88 [==============================] - 23s 255ms/step - loss: 1.1172\n",
            "Epoch 9/20\n",
            "88/88 [==============================] - 23s 257ms/step - loss: 1.0754\n",
            "Epoch 10/20\n",
            "88/88 [==============================] - 23s 255ms/step - loss: 1.0663\n",
            "Epoch 11/20\n",
            "88/88 [==============================] - 23s 256ms/step - loss: 1.0254\n",
            "Epoch 12/20\n",
            "88/88 [==============================] - 23s 255ms/step - loss: 0.9752\n",
            "Epoch 13/20\n",
            "88/88 [==============================] - 24s 261ms/step - loss: 0.9353\n",
            "Epoch 14/20\n",
            "88/88 [==============================] - 23s 257ms/step - loss: 0.8992\n",
            "Epoch 15/20\n",
            "88/88 [==============================] - 23s 258ms/step - loss: 0.8802\n",
            "Epoch 16/20\n",
            "88/88 [==============================] - 23s 257ms/step - loss: 0.8299\n",
            "Epoch 17/20\n",
            "88/88 [==============================] - 23s 257ms/step - loss: 0.7629\n",
            "Epoch 18/20\n",
            "88/88 [==============================] - 23s 256ms/step - loss: 0.6992\n",
            "Epoch 19/20\n",
            "88/88 [==============================] - 23s 256ms/step - loss: 0.6314\n",
            "Epoch 20/20\n",
            "88/88 [==============================] - 23s 260ms/step - loss: 0.5592\n"
          ]
        }
      ]
    },
    {
      "cell_type": "code",
      "source": [
        "def generate_text(model, start_string, temperature=0.5):\n",
        "    # Low temperature results in more predictable text.\n",
        "    # Higher temperature results in more surprising text.\n",
        "    # Experiment to find the best setting.\n",
        "\n",
        "    # Evaluation step (generating text using the learned model)\n",
        "\n",
        "    # Number of characters to generate\n",
        "    num_generate = 500\n",
        "\n",
        "    # Converting our start string to numbers (vectorizing)\n",
        "    input_eval = [char2idx[s] for s in start_string]\n",
        "    input_eval = tf.expand_dims(input_eval, 0)\n",
        "\n",
        "    # Empty string to store our results\n",
        "    text_generated = []\n",
        "\n",
        "    # Here batch size == 1\n",
        "    model.reset_states()\n",
        "    for i in range(num_generate):\n",
        "        predictions = model(input_eval)\n",
        "        predictions = tf.squeeze(predictions, 0)\n",
        "        # using a categorical distribution to predict the character returned by the model\n",
        "        predictions = predictions / temperature\n",
        "        predicted_id = tf.random.categorical(predictions, num_samples=1)[-1, 0].numpy()\n",
        "\n",
        "        # Pass the predicted character as the next input to the model\n",
        "        # along with the previous hidden state\n",
        "        input_eval = tf.expand_dims([predicted_id], 0)\n",
        "\n",
        "        text_generated.append(idx2char[predicted_id])\n",
        "\n",
        "    return (start_string + ''.join(text_generated))"
      ],
      "metadata": {
        "id": "GdY5X5HQrBxr"
      },
      "execution_count": 17,
      "outputs": []
    },
    {
      "cell_type": "code",
      "source": [
        "text_ = generate_text(model_gru, start_string=u\"И вот идет уже \",  temperature=0.7)\n",
        "print(text_)"
      ],
      "metadata": {
        "colab": {
          "base_uri": "https://localhost:8080/"
        },
        "id": "sJYX_GuRrDCk",
        "outputId": "1c2f9c05-cc43-4a0d-a275-0a4bbd64b8c2"
      },
      "execution_count": 18,
      "outputs": [
        {
          "output_type": "stream",
          "name": "stdout",
          "text": [
            "И вот идет уже вещебныелевовенедыхосле                     повобрашетой                 .\n",
            "                                                                стиской  жнегодомо                                                     омиморанеей                                                         дит                      инострамей                                                 селитья                                   ст                                                              т           ней                 \n"
          ]
        }
      ]
    },
    {
      "cell_type": "markdown",
      "source": [
        "Сетка с LSTM"
      ],
      "metadata": {
        "id": "iQdGKcoarHiU"
      }
    },
    {
      "cell_type": "code",
      "source": [
        "def build_lstm_model(vocab_size, embedding_dim, rnn_units, batch_size):\n",
        "    model = tf.keras.Sequential([\n",
        "        tf.keras.layers.Embedding(vocab_size, embedding_dim,\n",
        "                                  batch_input_shape=[batch_size, None]),\n",
        "                                 \n",
        "        tf.keras.layers.LSTM(rnn_units,\n",
        "                            return_sequences=True,\n",
        "                            stateful=True,\n",
        "                            recurrent_initializer='glorot_uniform'),\n",
        "\n",
        "        tf.keras.layers.LSTM(rnn_units,\n",
        "                            return_sequences=True,\n",
        "                            stateful=True,\n",
        "                            recurrent_initializer='glorot_uniform'),\n",
        "\n",
        "         tf.keras.layers.LSTM(rnn_units,\n",
        "                            return_sequences=True,\n",
        "                            stateful=True,\n",
        "                            recurrent_initializer='glorot_uniform'),\n",
        "        \n",
        "        tf.keras.layers.LSTM(rnn_units,\n",
        "                            return_sequences=True,\n",
        "                            stateful=True,\n",
        "                            recurrent_initializer='glorot_uniform'),\n",
        "                                   \n",
        "        tf.keras.layers.Dense(vocab_size)\n",
        "    ])\n",
        "    return model"
      ],
      "metadata": {
        "id": "4uhimkLRrFQU"
      },
      "execution_count": 19,
      "outputs": []
    },
    {
      "cell_type": "code",
      "source": [
        "model_lstm = build_lstm_model(\n",
        "    vocab_size=len(vocab),\n",
        "    embedding_dim=embedding_dim,\n",
        "    rnn_units=rnn_units,\n",
        "    batch_size=BATCH_SIZE)"
      ],
      "metadata": {
        "id": "qQnkEVu2rIzT"
      },
      "execution_count": 20,
      "outputs": []
    },
    {
      "cell_type": "code",
      "source": [
        "model_lstm.summary()"
      ],
      "metadata": {
        "colab": {
          "base_uri": "https://localhost:8080/"
        },
        "id": "7qolgS2crJ9b",
        "outputId": "8211e49c-a3ae-494f-c6be-41ff361d195f"
      },
      "execution_count": 21,
      "outputs": [
        {
          "output_type": "stream",
          "name": "stdout",
          "text": [
            "Model: \"sequential\"\n",
            "_________________________________________________________________\n",
            " Layer (type)                Output Shape              Param #   \n",
            "=================================================================\n",
            " embedding_1 (Embedding)     (64, None, 128)           16768     \n",
            "                                                                 \n",
            " lstm (LSTM)                 (64, None, 1024)          4722688   \n",
            "                                                                 \n",
            " lstm_1 (LSTM)               (64, None, 1024)          8392704   \n",
            "                                                                 \n",
            " lstm_2 (LSTM)               (64, None, 1024)          8392704   \n",
            "                                                                 \n",
            " lstm_3 (LSTM)               (64, None, 1024)          8392704   \n",
            "                                                                 \n",
            " dense_1 (Dense)             (64, None, 131)           134275    \n",
            "                                                                 \n",
            "=================================================================\n",
            "Total params: 30,051,843\n",
            "Trainable params: 30,051,843\n",
            "Non-trainable params: 0\n",
            "_________________________________________________________________\n"
          ]
        }
      ]
    },
    {
      "cell_type": "code",
      "source": [
        "model_lstm.compile(optimizer='adam', loss=loss)"
      ],
      "metadata": {
        "id": "wSm3SlbCrLc0"
      },
      "execution_count": 22,
      "outputs": []
    },
    {
      "cell_type": "code",
      "source": [
        "!rm -rf ./training_checkpoints"
      ],
      "metadata": {
        "id": "cTqMxTWorMhc"
      },
      "execution_count": 23,
      "outputs": []
    },
    {
      "cell_type": "code",
      "source": [
        "!ls ./training_checkpoints"
      ],
      "metadata": {
        "colab": {
          "base_uri": "https://localhost:8080/"
        },
        "id": "u5R_oHw3rNjc",
        "outputId": "5c865fef-9746-4481-a2fb-382a2217ccb8"
      },
      "execution_count": 24,
      "outputs": [
        {
          "output_type": "stream",
          "name": "stdout",
          "text": [
            "ls: cannot access './training_checkpoints': No such file or directory\n"
          ]
        }
      ]
    },
    {
      "cell_type": "code",
      "source": [
        "# Directory where the checkpoints will be saved\n",
        "checkpoint_dir = Path('./training_checkpoints')\n",
        "# Name of the checkpoint files\n",
        "checkpoint_prefix = checkpoint_dir / \"ckpt_{epoch}\"\n",
        "\n",
        "checkpoint_callback = tf.keras.callbacks.ModelCheckpoint(\n",
        "    filepath=checkpoint_prefix,\n",
        "    save_freq=88*3,\n",
        "    save_weights_only=True)"
      ],
      "metadata": {
        "id": "rIXO9SBJrQfb"
      },
      "execution_count": 25,
      "outputs": []
    },
    {
      "cell_type": "code",
      "source": [
        "for input_example_batch, target_example_batch in dataset.take(1):\n",
        "    example_batch_predictions = model_lstm(input_example_batch)\n",
        "    print(example_batch_predictions.shape, \"# (batch_size, sequence_length, vocab_size)\")"
      ],
      "metadata": {
        "colab": {
          "base_uri": "https://localhost:8080/"
        },
        "id": "IG2ASFHqrRf7",
        "outputId": "97a3b889-fc3d-49b8-afb6-af6ba2ab7bea"
      },
      "execution_count": 26,
      "outputs": [
        {
          "output_type": "stream",
          "name": "stdout",
          "text": [
            "(64, 100, 131) # (batch_size, sequence_length, vocab_size)\n"
          ]
        }
      ]
    },
    {
      "cell_type": "code",
      "source": [
        "history = model_lstm.fit(dataset, epochs=EPOCHS, callbacks=[checkpoint_callback])"
      ],
      "metadata": {
        "colab": {
          "base_uri": "https://localhost:8080/"
        },
        "id": "ON2pw0aFrTSc",
        "outputId": "648dd247-e50f-4198-e730-4e44960f58f7"
      },
      "execution_count": 27,
      "outputs": [
        {
          "output_type": "stream",
          "name": "stdout",
          "text": [
            "Epoch 1/20\n",
            "88/88 [==============================] - 33s 328ms/step - loss: 2.4045\n",
            "Epoch 2/20\n",
            "88/88 [==============================] - 30s 331ms/step - loss: 2.0473\n",
            "Epoch 3/20\n",
            "88/88 [==============================] - 31s 347ms/step - loss: 1.6986\n",
            "Epoch 4/20\n",
            "88/88 [==============================] - 30s 336ms/step - loss: 1.5426\n",
            "Epoch 5/20\n",
            "88/88 [==============================] - 30s 340ms/step - loss: 1.4445\n",
            "Epoch 6/20\n",
            "88/88 [==============================] - 32s 351ms/step - loss: 1.3884\n",
            "Epoch 7/20\n",
            "88/88 [==============================] - 31s 339ms/step - loss: 1.3614\n",
            "Epoch 8/20\n",
            "88/88 [==============================] - 30s 339ms/step - loss: 1.3356\n",
            "Epoch 9/20\n",
            "88/88 [==============================] - 31s 349ms/step - loss: 1.3464\n",
            "Epoch 10/20\n",
            "88/88 [==============================] - 30s 337ms/step - loss: 1.3178\n",
            "Epoch 11/20\n",
            "88/88 [==============================] - 30s 337ms/step - loss: 1.2937\n",
            "Epoch 12/20\n",
            "88/88 [==============================] - 31s 350ms/step - loss: 1.2787\n",
            "Epoch 13/20\n",
            "88/88 [==============================] - 31s 341ms/step - loss: 1.2611\n",
            "Epoch 14/20\n",
            "88/88 [==============================] - 31s 341ms/step - loss: 1.2724\n",
            "Epoch 15/20\n",
            "88/88 [==============================] - 32s 354ms/step - loss: 1.2513\n",
            "Epoch 16/20\n",
            "88/88 [==============================] - 30s 337ms/step - loss: 1.2390\n",
            "Epoch 17/20\n",
            "88/88 [==============================] - 31s 350ms/step - loss: 1.2213\n",
            "Epoch 18/20\n",
            "88/88 [==============================] - 31s 350ms/step - loss: 1.2029\n",
            "Epoch 19/20\n",
            "88/88 [==============================] - 31s 344ms/step - loss: 1.1911\n",
            "Epoch 20/20\n",
            "88/88 [==============================] - 31s 343ms/step - loss: 1.1553\n"
          ]
        }
      ]
    },
    {
      "cell_type": "code",
      "source": [
        "tf.train.latest_checkpoint(checkpoint_dir)\n",
        "model_lstm = build_lstm_model(vocab_size, embedding_dim, rnn_units, batch_size=1)\n",
        "model_lstm.load_weights(tf.train.latest_checkpoint(checkpoint_dir))\n",
        "model_lstm.build(tf.TensorShape([1, None]))"
      ],
      "metadata": {
        "id": "HwDiftW1rVn0"
      },
      "execution_count": 28,
      "outputs": []
    },
    {
      "cell_type": "code",
      "source": [
        "model_lstm.summary()"
      ],
      "metadata": {
        "colab": {
          "base_uri": "https://localhost:8080/"
        },
        "id": "VQBZD2onrYLF",
        "outputId": "df90d2dd-7fd4-4c58-d22f-74f672df7c4f"
      },
      "execution_count": 29,
      "outputs": [
        {
          "output_type": "stream",
          "name": "stdout",
          "text": [
            "Model: \"sequential_1\"\n",
            "_________________________________________________________________\n",
            " Layer (type)                Output Shape              Param #   \n",
            "=================================================================\n",
            " embedding_2 (Embedding)     (1, None, 128)            16768     \n",
            "                                                                 \n",
            " lstm_4 (LSTM)               (1, None, 1024)           4722688   \n",
            "                                                                 \n",
            " lstm_5 (LSTM)               (1, None, 1024)           8392704   \n",
            "                                                                 \n",
            " lstm_6 (LSTM)               (1, None, 1024)           8392704   \n",
            "                                                                 \n",
            " lstm_7 (LSTM)               (1, None, 1024)           8392704   \n",
            "                                                                 \n",
            " dense_2 (Dense)             (1, None, 131)            134275    \n",
            "                                                                 \n",
            "=================================================================\n",
            "Total params: 30,051,843\n",
            "Trainable params: 30,051,843\n",
            "Non-trainable params: 0\n",
            "_________________________________________________________________\n"
          ]
        }
      ]
    },
    {
      "cell_type": "code",
      "source": [
        "text_ = generate_text(model_lstm, start_string=u\"И вот идет уже \",  temperature=0.7)\n",
        "print(text_)"
      ],
      "metadata": {
        "colab": {
          "base_uri": "https://localhost:8080/"
        },
        "id": "arHyO4zRrZsT",
        "outputId": "dfa5edaf-39ea-45a9-b8f8-e5645aac0e20"
      },
      "execution_count": 30,
      "outputs": [
        {
          "output_type": "stream",
          "name": "stdout",
          "text": [
            "И вот идет уже тросья\n",
            "                                                                                                        XXII\n",
            "\n",
            "                        Быгда вослылиго                 Сморез от содую плечные,\n",
            "                        Лабор ужели болибольной,\n",
            "                        Вестыхча возледний опревелкий\n",
            "                        В опливо с тлег и наде всем\n",
            "                        Дегот марочный невовран;\n",
            "                                                                                    И пладе плеври\n"
          ]
        }
      ]
    },
    {
      "cell_type": "code",
      "source": [],
      "metadata": {
        "id": "WrEE8KN8ra3k"
      },
      "execution_count": 30,
      "outputs": []
    }
  ]
}