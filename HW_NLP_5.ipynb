{
  "nbformat": 4,
  "nbformat_minor": 0,
  "metadata": {
    "colab": {
      "provenance": [],
      "authorship_tag": "ABX9TyPAMLcst6vBXEnhuGTaKAt7"
    },
    "kernelspec": {
      "name": "python3",
      "display_name": "Python 3"
    },
    "language_info": {
      "name": "python"
    }
  },
  "cells": [
    {
      "cell_type": "markdown",
      "source": [
        "**Задание 1. Написать теггер на данных с русским языком**\n",
        "1. проверить UnigramTagger, BigramTagger, TrigramTagger и их комбинации\n",
        "2. написать свой теггер как на занятии, попробовать разные векторайзеры, добавить знание не только букв но и слов\n",
        "3. сравнить все реализованные методы, сделать выводы\n"
      ],
      "metadata": {
        "id": "E84A70Tyu49C"
      }
    },
    {
      "cell_type": "code",
      "execution_count": 1,
      "metadata": {
        "colab": {
          "base_uri": "https://localhost:8080/"
        },
        "id": "AQTRPJAEs1hj",
        "outputId": "096ce6c5-b609-4eda-ad57-85019a3c2448"
      },
      "outputs": [
        {
          "output_type": "stream",
          "name": "stdout",
          "text": [
            "--2022-12-29 16:25:14--  https://raw.githubusercontent.com/UniversalDependencies/UD_Russian-SynTagRus/master/ru_syntagrus-ud-train-a.conllu\n",
            "Resolving raw.githubusercontent.com (raw.githubusercontent.com)... 185.199.111.133, 185.199.109.133, 185.199.108.133, ...\n",
            "Connecting to raw.githubusercontent.com (raw.githubusercontent.com)|185.199.111.133|:443... connected.\n",
            "HTTP request sent, awaiting response... 200 OK\n",
            "Length: 40736581 (39M) [text/plain]\n",
            "Saving to: ‘ru_syntagrus-ud-train.conllu’\n",
            "\n",
            "ru_syntagrus-ud-tra 100%[===================>]  38.85M   187MB/s    in 0.2s    \n",
            "\n",
            "2022-12-29 16:25:15 (187 MB/s) - ‘ru_syntagrus-ud-train.conllu’ saved [40736581/40736581]\n",
            "\n",
            "--2022-12-29 16:25:15--  https://raw.githubusercontent.com/UniversalDependencies/UD_Russian-SynTagRus/master/ru_syntagrus-ud-dev.conllu\n",
            "Resolving raw.githubusercontent.com (raw.githubusercontent.com)... 185.199.108.133, 185.199.109.133, 185.199.110.133, ...\n",
            "Connecting to raw.githubusercontent.com (raw.githubusercontent.com)|185.199.108.133|:443... connected.\n",
            "HTTP request sent, awaiting response... 200 OK\n",
            "Length: 14704579 (14M) [text/plain]\n",
            "Saving to: ‘ru_syntagrus-ud-dev.conllu’\n",
            "\n",
            "ru_syntagrus-ud-dev 100%[===================>]  14.02M  --.-KB/s    in 0.09s   \n",
            "\n",
            "2022-12-29 16:25:16 (158 MB/s) - ‘ru_syntagrus-ud-dev.conllu’ saved [14704579/14704579]\n",
            "\n"
          ]
        }
      ],
      "source": [
        "!wget -O ru_syntagrus-ud-train.conllu https://raw.githubusercontent.com/UniversalDependencies/UD_Russian-SynTagRus/master/ru_syntagrus-ud-train-a.conllu \n",
        "!wget -O ru_syntagrus-ud-dev.conllu https://raw.githubusercontent.com/UniversalDependencies/UD_Russian-SynTagRus/master/ru_syntagrus-ud-dev.conllu"
      ]
    },
    {
      "cell_type": "code",
      "source": [
        "!pip install pyconll"
      ],
      "metadata": {
        "colab": {
          "base_uri": "https://localhost:8080/"
        },
        "id": "bV4-vZpOs3OO",
        "outputId": "eec37a55-48a8-4137-e9d1-f9490521b415"
      },
      "execution_count": 2,
      "outputs": [
        {
          "output_type": "stream",
          "name": "stdout",
          "text": [
            "Looking in indexes: https://pypi.org/simple, https://us-python.pkg.dev/colab-wheels/public/simple/\n",
            "Collecting pyconll\n",
            "  Downloading pyconll-3.1.0-py3-none-any.whl (26 kB)\n",
            "Installing collected packages: pyconll\n",
            "Successfully installed pyconll-3.1.0\n"
          ]
        }
      ]
    },
    {
      "cell_type": "code",
      "source": [
        "import pandas as pd\n",
        "import numpy as np\n",
        "import re\n",
        "\n",
        "from sklearn.preprocessing import LabelEncoder, StandardScaler\n",
        "from sklearn.feature_extraction.text import CountVectorizer, HashingVectorizer, TfidfVectorizer\n",
        "from sklearn.linear_model import LogisticRegression\n",
        "from sklearn.metrics import accuracy_score\n",
        "\n",
        "import pyconll\n",
        "import nltk\n",
        "from nltk.tag import DefaultTagger, UnigramTagger, BigramTagger, TrigramTagger\n",
        "\n",
        "import warnings\n",
        "warnings.filterwarnings(\"ignore\")"
      ],
      "metadata": {
        "id": "SSdQjBxHs4ue"
      },
      "execution_count": 3,
      "outputs": []
    },
    {
      "cell_type": "code",
      "source": [
        "data_train = pyconll.load_from_file('ru_syntagrus-ud-train.conllu')\n",
        "data_test = pyconll.load_from_file('ru_syntagrus-ud-dev.conllu')"
      ],
      "metadata": {
        "id": "F54dcXsjs6bu"
      },
      "execution_count": 4,
      "outputs": []
    },
    {
      "cell_type": "code",
      "source": [
        "fdata_train = []\n",
        "for sent in data_train[:]:\n",
        "    fdata_train.append([(token.form, token.upos) for token in sent])\n",
        "    \n",
        "fdata_test = []\n",
        "for sent in data_test[:]:\n",
        "    fdata_test.append([(token.form, token.upos) for token in sent])\n",
        "    \n",
        "fdata_sent_test = []\n",
        "for sent in data_test[:]:\n",
        "    fdata_sent_test.append([token.form for token in sent])"
      ],
      "metadata": {
        "id": "756OTXQfs7w9"
      },
      "execution_count": 5,
      "outputs": []
    },
    {
      "cell_type": "code",
      "source": [
        "len(fdata_train), len(fdata_test), len(fdata_sent_test)"
      ],
      "metadata": {
        "colab": {
          "base_uri": "https://localhost:8080/"
        },
        "id": "S5r6FPrVs9ed",
        "outputId": "f208f177-c800-4866-d4cd-10a09f48f4f8"
      },
      "execution_count": 6,
      "outputs": [
        {
          "output_type": "execute_result",
          "data": {
            "text/plain": [
              "(24516, 8906, 8906)"
            ]
          },
          "metadata": {},
          "execution_count": 6
        }
      ]
    },
    {
      "cell_type": "code",
      "source": [
        "unigram_tagger = UnigramTagger(fdata_train)\n",
        "unigram_acc = unigram_tagger.evaluate(fdata_test)\n",
        "\n",
        "bigram_tagger = BigramTagger(fdata_train)\n",
        "bigram_acc = bigram_tagger.evaluate(fdata_test)\n",
        "\n",
        "trigram_tagger = TrigramTagger(fdata_train)\n",
        "trigram_acc = trigram_tagger.evaluate(fdata_test)\n",
        "\n",
        "bigram_tagger = BigramTagger(fdata_train, backoff=unigram_tagger)\n",
        "bigram_unigram_acc = bigram_tagger.evaluate(fdata_test)\n",
        "\n",
        "trigram_tagger = TrigramTagger(fdata_train, backoff=bigram_tagger)\n",
        "trigram_bigram_unigram_acc = trigram_tagger.evaluate(fdata_test)\n",
        "\n",
        "print(f'Accuracy:\\nUnigram Tagger: {round(unigram_acc, 3)},\\nBigram Tagger: {round(bigram_acc, 5)},\\n'\n",
        "      f'Trigram Tagger: {round(trigram_acc, 3)},\\nBigram and Unigram Tagger: {round(bigram_unigram_acc, 5)},\\n'\n",
        "      f'Trigram, Bigram and Unigram Tagger: {round(trigram_bigram_unigram_acc, 5)},\\n')"
      ],
      "metadata": {
        "colab": {
          "base_uri": "https://localhost:8080/"
        },
        "id": "SRfLjAxps-3t",
        "outputId": "ad92bdb5-10e8-47dd-9f17-e05419f9d852"
      },
      "execution_count": 7,
      "outputs": [
        {
          "output_type": "stream",
          "name": "stdout",
          "text": [
            "Accuracy:\n",
            "Unigram Tagger: 0.824,\n",
            "Bigram Tagger: 0.60939,\n",
            "Trigram Tagger: 0.178,\n",
            "Bigram and Unigram Tagger: 0.82928,\n",
            "Trigram, Bigram and Unigram Tagger: 0.82914,\n",
            "\n"
          ]
        }
      ]
    },
    {
      "cell_type": "markdown",
      "source": [
        "Лучший результат у комбинации \"Bigram and Unigram Tagger\""
      ],
      "metadata": {
        "id": "Tg5dCu7vtCzU"
      }
    },
    {
      "cell_type": "code",
      "source": [
        "from nltk.tag import SequentialBackoffTagger"
      ],
      "metadata": {
        "id": "mT-zGEhFtbKG"
      },
      "execution_count": 12,
      "outputs": []
    },
    {
      "cell_type": "code",
      "source": [
        "class NamesTagger(SequentialBackoffTagger):\n",
        "    def __init__(self, model, *args, **kwargs):\n",
        "        SequentialBackoffTagger.__init__(self, *args, **kwargs)\n",
        "        self.model = model\n",
        "            \n",
        "    def choose_tag(self, tokens, index, history):\n",
        "        word = tokens[index]\n",
        "        return self.model.tag([word])[0][1]\n",
        "            \n",
        "nt = NamesTagger(trigram_tagger)\n",
        "print(nt.tag(['составляло', 'период'])) \n",
        "print(nt.tag(['Армении'])) \n",
        "print(nt.tag(['.']))"
      ],
      "metadata": {
        "colab": {
          "base_uri": "https://localhost:8080/"
        },
        "id": "2l38DsdktAcd",
        "outputId": "1f47ac5c-c8c2-4abd-bd27-ade1f3b52073"
      },
      "execution_count": 13,
      "outputs": [
        {
          "output_type": "stream",
          "name": "stdout",
          "text": [
            "[('составляло', 'VERB'), ('период', 'NOUN')]\n",
            "[('Армении', 'PROPN')]\n",
            "[('.', 'PUNCT')]\n"
          ]
        }
      ]
    },
    {
      "cell_type": "code",
      "source": [
        "nt.accuracy(fdata_test)"
      ],
      "metadata": {
        "colab": {
          "base_uri": "https://localhost:8080/"
        },
        "id": "U7C0iuIntNbt",
        "outputId": "1d977b40-24d0-4f09-8e3f-62b2061079cc"
      },
      "execution_count": 14,
      "outputs": [
        {
          "output_type": "execute_result",
          "data": {
            "text/plain": [
              "0.822696790155609"
            ]
          },
          "metadata": {},
          "execution_count": 14
        }
      ]
    },
    {
      "cell_type": "markdown",
      "source": [
        "**Задание 2. Проверить, насколько хорошо работает NER**\n",
        "\n",
        "Данные брать из http://www.labinform.ru/pub/named_entities/\n",
        "1. проверить NER из nltk/spacy/deeppavlov.\n",
        "2. написать свой NER, попробовать разные подходы.\n",
        "* передаём в сетку токен и его соседей.\n",
        "* передаём в сетку только токен.\n",
        "* свой вариант.\n",
        "3. сравнить свои реализованные подходы на качество — вывести precision/recall/f1_score.\n"
      ],
      "metadata": {
        "id": "bYFUDgajuDLV"
      }
    },
    {
      "cell_type": "code",
      "source": [
        "!/usr/local/bin/spacy download ru_core_news_sm"
      ],
      "metadata": {
        "colab": {
          "base_uri": "https://localhost:8080/"
        },
        "id": "lzA99eYk9tI2",
        "outputId": "c929152f-e4ab-48e7-cb30-63ce5cc29f89"
      },
      "execution_count": 35,
      "outputs": [
        {
          "output_type": "stream",
          "name": "stdout",
          "text": [
            "2022-12-29 17:38:40.344330: E tensorflow/stream_executor/cuda/cuda_driver.cc:271] failed call to cuInit: CUDA_ERROR_NO_DEVICE: no CUDA-capable device is detected\n",
            "Looking in indexes: https://pypi.org/simple, https://us-python.pkg.dev/colab-wheels/public/simple/\n",
            "Collecting ru-core-news-sm==3.4.0\n",
            "  Downloading https://github.com/explosion/spacy-models/releases/download/ru_core_news_sm-3.4.0/ru_core_news_sm-3.4.0-py3-none-any.whl (15.3 MB)\n",
            "\u001b[K     |████████████████████████████████| 15.3 MB 2.1 MB/s \n",
            "\u001b[?25hRequirement already satisfied: pymorphy2>=0.9 in /usr/local/lib/python3.8/dist-packages (from ru-core-news-sm==3.4.0) (0.9.1)\n",
            "Requirement already satisfied: spacy<3.5.0,>=3.4.0 in /usr/local/lib/python3.8/dist-packages (from ru-core-news-sm==3.4.0) (3.4.4)\n",
            "Requirement already satisfied: docopt>=0.6 in /usr/local/lib/python3.8/dist-packages (from pymorphy2>=0.9->ru-core-news-sm==3.4.0) (0.6.2)\n",
            "Requirement already satisfied: pymorphy2-dicts-ru<3.0,>=2.4 in /usr/local/lib/python3.8/dist-packages (from pymorphy2>=0.9->ru-core-news-sm==3.4.0) (2.4.417127.4579844)\n",
            "Requirement already satisfied: dawg-python>=0.7.1 in /usr/local/lib/python3.8/dist-packages (from pymorphy2>=0.9->ru-core-news-sm==3.4.0) (0.7.2)\n",
            "Requirement already satisfied: pydantic!=1.8,!=1.8.1,<1.11.0,>=1.7.4 in /usr/local/lib/python3.8/dist-packages (from spacy<3.5.0,>=3.4.0->ru-core-news-sm==3.4.0) (1.10.2)\n",
            "Requirement already satisfied: requests<3.0.0,>=2.13.0 in /usr/local/lib/python3.8/dist-packages (from spacy<3.5.0,>=3.4.0->ru-core-news-sm==3.4.0) (2.23.0)\n",
            "Requirement already satisfied: setuptools in /usr/local/lib/python3.8/dist-packages (from spacy<3.5.0,>=3.4.0->ru-core-news-sm==3.4.0) (57.4.0)\n",
            "Requirement already satisfied: preshed<3.1.0,>=3.0.2 in /usr/local/lib/python3.8/dist-packages (from spacy<3.5.0,>=3.4.0->ru-core-news-sm==3.4.0) (3.0.8)\n",
            "Requirement already satisfied: spacy-loggers<2.0.0,>=1.0.0 in /usr/local/lib/python3.8/dist-packages (from spacy<3.5.0,>=3.4.0->ru-core-news-sm==3.4.0) (1.0.4)\n",
            "Requirement already satisfied: wasabi<1.1.0,>=0.9.1 in /usr/local/lib/python3.8/dist-packages (from spacy<3.5.0,>=3.4.0->ru-core-news-sm==3.4.0) (0.10.1)\n",
            "Requirement already satisfied: srsly<3.0.0,>=2.4.3 in /usr/local/lib/python3.8/dist-packages (from spacy<3.5.0,>=3.4.0->ru-core-news-sm==3.4.0) (2.4.5)\n",
            "Requirement already satisfied: catalogue<2.1.0,>=2.0.6 in /usr/local/lib/python3.8/dist-packages (from spacy<3.5.0,>=3.4.0->ru-core-news-sm==3.4.0) (2.0.8)\n",
            "Requirement already satisfied: spacy-legacy<3.1.0,>=3.0.10 in /usr/local/lib/python3.8/dist-packages (from spacy<3.5.0,>=3.4.0->ru-core-news-sm==3.4.0) (3.0.10)\n",
            "Requirement already satisfied: smart-open<7.0.0,>=5.2.1 in /usr/local/lib/python3.8/dist-packages (from spacy<3.5.0,>=3.4.0->ru-core-news-sm==3.4.0) (6.3.0)\n",
            "Requirement already satisfied: pathy>=0.3.5 in /usr/local/lib/python3.8/dist-packages (from spacy<3.5.0,>=3.4.0->ru-core-news-sm==3.4.0) (0.10.1)\n",
            "Requirement already satisfied: jinja2 in /usr/local/lib/python3.8/dist-packages (from spacy<3.5.0,>=3.4.0->ru-core-news-sm==3.4.0) (2.11.3)\n",
            "Requirement already satisfied: cymem<2.1.0,>=2.0.2 in /usr/local/lib/python3.8/dist-packages (from spacy<3.5.0,>=3.4.0->ru-core-news-sm==3.4.0) (2.0.7)\n",
            "Requirement already satisfied: langcodes<4.0.0,>=3.2.0 in /usr/local/lib/python3.8/dist-packages (from spacy<3.5.0,>=3.4.0->ru-core-news-sm==3.4.0) (3.3.0)\n",
            "Requirement already satisfied: tqdm<5.0.0,>=4.38.0 in /usr/local/lib/python3.8/dist-packages (from spacy<3.5.0,>=3.4.0->ru-core-news-sm==3.4.0) (4.64.1)\n",
            "Requirement already satisfied: numpy>=1.15.0 in /usr/local/lib/python3.8/dist-packages (from spacy<3.5.0,>=3.4.0->ru-core-news-sm==3.4.0) (1.21.6)\n",
            "Requirement already satisfied: thinc<8.2.0,>=8.1.0 in /usr/local/lib/python3.8/dist-packages (from spacy<3.5.0,>=3.4.0->ru-core-news-sm==3.4.0) (8.1.5)\n",
            "Requirement already satisfied: murmurhash<1.1.0,>=0.28.0 in /usr/local/lib/python3.8/dist-packages (from spacy<3.5.0,>=3.4.0->ru-core-news-sm==3.4.0) (1.0.9)\n",
            "Requirement already satisfied: typer<0.8.0,>=0.3.0 in /usr/local/lib/python3.8/dist-packages (from spacy<3.5.0,>=3.4.0->ru-core-news-sm==3.4.0) (0.7.0)\n",
            "Requirement already satisfied: packaging>=20.0 in /usr/local/lib/python3.8/dist-packages (from spacy<3.5.0,>=3.4.0->ru-core-news-sm==3.4.0) (21.3)\n",
            "Requirement already satisfied: pyparsing!=3.0.5,>=2.0.2 in /usr/local/lib/python3.8/dist-packages (from packaging>=20.0->spacy<3.5.0,>=3.4.0->ru-core-news-sm==3.4.0) (3.0.9)\n",
            "Requirement already satisfied: typing-extensions>=4.1.0 in /usr/local/lib/python3.8/dist-packages (from pydantic!=1.8,!=1.8.1,<1.11.0,>=1.7.4->spacy<3.5.0,>=3.4.0->ru-core-news-sm==3.4.0) (4.4.0)\n",
            "Requirement already satisfied: chardet<4,>=3.0.2 in /usr/local/lib/python3.8/dist-packages (from requests<3.0.0,>=2.13.0->spacy<3.5.0,>=3.4.0->ru-core-news-sm==3.4.0) (3.0.4)\n",
            "Requirement already satisfied: certifi>=2017.4.17 in /usr/local/lib/python3.8/dist-packages (from requests<3.0.0,>=2.13.0->spacy<3.5.0,>=3.4.0->ru-core-news-sm==3.4.0) (2022.12.7)\n",
            "Requirement already satisfied: urllib3!=1.25.0,!=1.25.1,<1.26,>=1.21.1 in /usr/local/lib/python3.8/dist-packages (from requests<3.0.0,>=2.13.0->spacy<3.5.0,>=3.4.0->ru-core-news-sm==3.4.0) (1.24.3)\n",
            "Requirement already satisfied: idna<3,>=2.5 in /usr/local/lib/python3.8/dist-packages (from requests<3.0.0,>=2.13.0->spacy<3.5.0,>=3.4.0->ru-core-news-sm==3.4.0) (2.10)\n",
            "Requirement already satisfied: blis<0.8.0,>=0.7.8 in /usr/local/lib/python3.8/dist-packages (from thinc<8.2.0,>=8.1.0->spacy<3.5.0,>=3.4.0->ru-core-news-sm==3.4.0) (0.7.9)\n",
            "Requirement already satisfied: confection<1.0.0,>=0.0.1 in /usr/local/lib/python3.8/dist-packages (from thinc<8.2.0,>=8.1.0->spacy<3.5.0,>=3.4.0->ru-core-news-sm==3.4.0) (0.0.3)\n",
            "Requirement already satisfied: click<9.0.0,>=7.1.1 in /usr/local/lib/python3.8/dist-packages (from typer<0.8.0,>=0.3.0->spacy<3.5.0,>=3.4.0->ru-core-news-sm==3.4.0) (7.1.2)\n",
            "Requirement already satisfied: MarkupSafe>=0.23 in /usr/local/lib/python3.8/dist-packages (from jinja2->spacy<3.5.0,>=3.4.0->ru-core-news-sm==3.4.0) (2.0.1)\n",
            "Installing collected packages: ru-core-news-sm\n",
            "Successfully installed ru-core-news-sm-3.4.0\n",
            "\u001b[38;5;2m✔ Download and installation successful\u001b[0m\n",
            "You can now load the package via spacy.load('ru_core_news_sm')\n"
          ]
        }
      ]
    },
    {
      "cell_type": "code",
      "source": [
        "!wget http://www.labinform.ru/pub/named_entities/collection5.zip"
      ],
      "metadata": {
        "colab": {
          "base_uri": "https://localhost:8080/"
        },
        "id": "r3dlNB4l9cvF",
        "outputId": "089c514f-7148-4f8e-a737-539db4cb048f"
      },
      "execution_count": 28,
      "outputs": [
        {
          "output_type": "stream",
          "name": "stdout",
          "text": [
            "--2022-12-29 17:37:26--  http://www.labinform.ru/pub/named_entities/collection5.zip\n",
            "Resolving www.labinform.ru (www.labinform.ru)... 95.181.230.181\n",
            "Connecting to www.labinform.ru (www.labinform.ru)|95.181.230.181|:80... connected.\n",
            "HTTP request sent, awaiting response... 200 OK\n",
            "Length: 1899530 (1.8M) [application/zip]\n",
            "Saving to: ‘collection5.zip’\n",
            "\n",
            "collection5.zip     100%[===================>]   1.81M  1.50MB/s    in 1.2s    \n",
            "\n",
            "2022-12-29 17:37:28 (1.50 MB/s) - ‘collection5.zip’ saved [1899530/1899530]\n",
            "\n"
          ]
        }
      ]
    },
    {
      "cell_type": "code",
      "source": [
        "!unzip collection5.zip"
      ],
      "metadata": {
        "id": "i68G_7aU9eFt"
      },
      "execution_count": null,
      "outputs": []
    },
    {
      "cell_type": "code",
      "source": [
        "!pip install corus"
      ],
      "metadata": {
        "colab": {
          "base_uri": "https://localhost:8080/"
        },
        "id": "uakcv_DN9LT-",
        "outputId": "c0b9d31d-0d89-46f0-8872-14e6e3fd8849"
      },
      "execution_count": 25,
      "outputs": [
        {
          "output_type": "stream",
          "name": "stdout",
          "text": [
            "Looking in indexes: https://pypi.org/simple, https://us-python.pkg.dev/colab-wheels/public/simple/\n",
            "Collecting corus\n",
            "  Downloading corus-0.9.0-py3-none-any.whl (83 kB)\n",
            "\u001b[K     |████████████████████████████████| 83 kB 1.9 MB/s \n",
            "\u001b[?25hInstalling collected packages: corus\n",
            "Successfully installed corus-0.9.0\n"
          ]
        }
      ]
    },
    {
      "cell_type": "code",
      "source": [
        "import corus\n",
        "from corus import load_ne5\n",
        "\n",
        "nltk.download('maxent_ne_chunker')\n",
        "nltk.download('words')\n",
        "nltk.download('punkt')\n",
        "nltk.download('averaged_perceptron_tagger')"
      ],
      "metadata": {
        "colab": {
          "base_uri": "https://localhost:8080/"
        },
        "id": "nZPHiZN4te0-",
        "outputId": "007e98e5-cdcf-4cae-e0f9-789c1a0a03fb"
      },
      "execution_count": 26,
      "outputs": [
        {
          "output_type": "stream",
          "name": "stderr",
          "text": [
            "[nltk_data] Downloading package maxent_ne_chunker to\n",
            "[nltk_data]     /root/nltk_data...\n",
            "[nltk_data]   Package maxent_ne_chunker is already up-to-date!\n",
            "[nltk_data] Downloading package words to /root/nltk_data...\n",
            "[nltk_data]   Package words is already up-to-date!\n",
            "[nltk_data] Downloading package punkt to /root/nltk_data...\n",
            "[nltk_data]   Package punkt is already up-to-date!\n",
            "[nltk_data] Downloading package averaged_perceptron_tagger to\n",
            "[nltk_data]     /root/nltk_data...\n",
            "[nltk_data]   Package averaged_perceptron_tagger is already up-to-\n",
            "[nltk_data]       date!\n"
          ]
        },
        {
          "output_type": "execute_result",
          "data": {
            "text/plain": [
              "True"
            ]
          },
          "metadata": {},
          "execution_count": 26
        }
      ]
    },
    {
      "cell_type": "code",
      "source": [
        "records = load_ne5('Collection5/')\n",
        "document = next(records).text\n",
        "document"
      ],
      "metadata": {
        "colab": {
          "base_uri": "https://localhost:8080/",
          "height": 105
        },
        "id": "pV-cl2qF9ScW",
        "outputId": "ee1907b2-7e72-4f19-846a-5e64b72d7aa7"
      },
      "execution_count": 30,
      "outputs": [
        {
          "output_type": "execute_result",
          "data": {
            "text/plain": [
              "'Из-за подчиненного-взяточника должностей лишились трое полицейских начальников (Воронеж)\\r\\n\\r\\nВ Воронеже участковый уволен за получение взятки, должностей лишились также трое его начальников, сообщили корреспонденту ИА REGNUM в пресс-службе ГУ МВД РФ по региону.\\r\\n\\r\\nСотрудники оперативно-разыскной части собственной безопасности ГУ МВД России по Воронежской области пресекли факт получения незаконного денежного вознаграждения полицейским ОП № 5 УМВД России по г. Воронежу. Старший участковый уполномоченный требовал от жителя областного центра 30 тысяч рублей за не привлечение ее к уголовной ответственности. По материалам проверки, проведенной сотрудниками ОРЧ СБ ГУ МВД России по Воронежской области принято процессуальное решение.\\r\\n\\r\\nВ ГУ МВД России по Воронежской области проведена служебная проверка. Полицейский уволен из органов внутренних дел.\\r\\n\\r\\nКроме того, за ненадлежащий контроль за подчиненным из органов внутренних дел уволены заместитель начальника ОП № 5 УМВД России по г. Воронежу, начальник отдела участковых уполномоченных и по делам несовершеннолетних ОП № 5 УМВД России по г. Воронежу, заместитель начальника отдела участковых уполномоченных и по делам несовершеннолетних ОП № 5 УМВД России по г. Воронежу.\\r\\nНовости по теме «Коррупция»:\\r\\n\\r\\n    Из-за подчиненного-взяточника должностей лишились трое полицейских начальников (Воронеж)(http://www.regnum.ru/news/1600115.html)\\r\\n    В Ульяновске бывшего директора завода \"Комета\" подозревают в коррупции(http://www.regnum.ru/news/1600072.html)\\r\\n    Торговец игрушками на вокзале в Южно-Сахалинске попытался дать взятку сотруднику ППС(http://www.regnum.ru/news/1600064.html)\\r\\n    В Самарской области прокуратура заинтересовалась воровством в ЖКХ(http://www.regnum.ru/news/1600076.html)\\r\\n    В Татарстане продолжают избирательно наказывать русских националистов(http://www.regnum.ru/news/1599988.html)\\r\\n\\r\\nВсе новости в сюжете «Коррупция»: http://www.regnum.ru/dossier/279.html (12281 новость)\\r\\nНовости по теме «Расследование преступлений сотрудников правоохранительных органов»:'"
            ],
            "application/vnd.google.colaboratory.intrinsic+json": {
              "type": "string"
            }
          },
          "metadata": {},
          "execution_count": 30
        }
      ]
    },
    {
      "cell_type": "code",
      "source": [
        "{(' '.join(c[0] for c in chunk), chunk.label() ) for chunk in nltk.ne_chunk(nltk.pos_tag(nltk.word_tokenize(document))) if hasattr(chunk, 'label') }"
      ],
      "metadata": {
        "colab": {
          "base_uri": "https://localhost:8080/"
        },
        "id": "CnNYffnM9SoO",
        "outputId": "3c601003-32df-4d74-a1e0-35f37b125ce6"
      },
      "execution_count": 31,
      "outputs": [
        {
          "output_type": "execute_result",
          "data": {
            "text/plain": [
              "{('Воронеж', 'ORGANIZATION'),\n",
              " ('Воронеже', 'PERSON'),\n",
              " ('ГУ', 'ORGANIZATION'),\n",
              " ('Кроме', 'PERSON'),\n",
              " ('МВД России', 'ORGANIZATION'),\n",
              " ('России', 'PERSON'),\n",
              " ('Самарской', 'PERSON'),\n",
              " ('Татарстане', 'ORGANIZATION'),\n",
              " ('УМВД России', 'ORGANIZATION'),\n",
              " ('Ульяновске', 'ORGANIZATION')}"
            ]
          },
          "metadata": {},
          "execution_count": 31
        }
      ]
    },
    {
      "cell_type": "code",
      "source": [
        "import spacy\n",
        "from spacy import displacy"
      ],
      "metadata": {
        "id": "JLPrFpZg9ilG"
      },
      "execution_count": 32,
      "outputs": []
    },
    {
      "cell_type": "code",
      "source": [
        "nlp = spacy.load('ru_core_news_sm')"
      ],
      "metadata": {
        "id": "G1fZ-V119j4u"
      },
      "execution_count": 36,
      "outputs": []
    },
    {
      "cell_type": "code",
      "source": [
        "ny_bb = document\n",
        "article = nlp(ny_bb)\n",
        "displacy.render(article, jupyter=True, style='ent')"
      ],
      "metadata": {
        "colab": {
          "base_uri": "https://localhost:8080/",
          "height": 787
        },
        "id": "t8IOwmOA9k_-",
        "outputId": "e7f758f5-de62-4d75-98bf-216036aaf56e"
      },
      "execution_count": 37,
      "outputs": [
        {
          "output_type": "display_data",
          "data": {
            "text/plain": [
              "<IPython.core.display.HTML object>"
            ],
            "text/html": [
              "<span class=\"tex2jax_ignore\"><div class=\"entities\" style=\"line-height: 2.5; direction: ltr\">Из-за подчиненного-взяточника должностей лишились трое полицейских начальников (\n",
              "<mark class=\"entity\" style=\"background: #ff9561; padding: 0.45em 0.6em; margin: 0 0.25em; line-height: 1; border-radius: 0.35em;\">\n",
              "    Воронеж\n",
              "    <span style=\"font-size: 0.8em; font-weight: bold; line-height: 1; border-radius: 0.35em; vertical-align: middle; margin-left: 0.5rem\">LOC</span>\n",
              "</mark>\n",
              ")\r</br>\r</br>В \n",
              "<mark class=\"entity\" style=\"background: #ff9561; padding: 0.45em 0.6em; margin: 0 0.25em; line-height: 1; border-radius: 0.35em;\">\n",
              "    Воронеже\n",
              "    <span style=\"font-size: 0.8em; font-weight: bold; line-height: 1; border-radius: 0.35em; vertical-align: middle; margin-left: 0.5rem\">LOC</span>\n",
              "</mark>\n",
              " участковый уволен за получение взятки, должностей лишились также трое его начальников, сообщили корреспонденту \n",
              "<mark class=\"entity\" style=\"background: #7aecec; padding: 0.45em 0.6em; margin: 0 0.25em; line-height: 1; border-radius: 0.35em;\">\n",
              "    ИА REGNUM\n",
              "    <span style=\"font-size: 0.8em; font-weight: bold; line-height: 1; border-radius: 0.35em; vertical-align: middle; margin-left: 0.5rem\">ORG</span>\n",
              "</mark>\n",
              " в пресс-службе \n",
              "<mark class=\"entity\" style=\"background: #7aecec; padding: 0.45em 0.6em; margin: 0 0.25em; line-height: 1; border-radius: 0.35em;\">\n",
              "    ГУ\n",
              "    <span style=\"font-size: 0.8em; font-weight: bold; line-height: 1; border-radius: 0.35em; vertical-align: middle; margin-left: 0.5rem\">ORG</span>\n",
              "</mark>\n",
              " \n",
              "<mark class=\"entity\" style=\"background: #7aecec; padding: 0.45em 0.6em; margin: 0 0.25em; line-height: 1; border-radius: 0.35em;\">\n",
              "    МВД\n",
              "    <span style=\"font-size: 0.8em; font-weight: bold; line-height: 1; border-radius: 0.35em; vertical-align: middle; margin-left: 0.5rem\">ORG</span>\n",
              "</mark>\n",
              " \n",
              "<mark class=\"entity\" style=\"background: #ff9561; padding: 0.45em 0.6em; margin: 0 0.25em; line-height: 1; border-radius: 0.35em;\">\n",
              "    РФ\n",
              "    <span style=\"font-size: 0.8em; font-weight: bold; line-height: 1; border-radius: 0.35em; vertical-align: middle; margin-left: 0.5rem\">LOC</span>\n",
              "</mark>\n",
              " по региону.\r</br>\r</br>Сотрудники оперативно-разыскной части собственной безопасности \n",
              "<mark class=\"entity\" style=\"background: #7aecec; padding: 0.45em 0.6em; margin: 0 0.25em; line-height: 1; border-radius: 0.35em;\">\n",
              "    ГУ\n",
              "    <span style=\"font-size: 0.8em; font-weight: bold; line-height: 1; border-radius: 0.35em; vertical-align: middle; margin-left: 0.5rem\">ORG</span>\n",
              "</mark>\n",
              " \n",
              "<mark class=\"entity\" style=\"background: #7aecec; padding: 0.45em 0.6em; margin: 0 0.25em; line-height: 1; border-radius: 0.35em;\">\n",
              "    МВД\n",
              "    <span style=\"font-size: 0.8em; font-weight: bold; line-height: 1; border-radius: 0.35em; vertical-align: middle; margin-left: 0.5rem\">ORG</span>\n",
              "</mark>\n",
              " \n",
              "<mark class=\"entity\" style=\"background: #ff9561; padding: 0.45em 0.6em; margin: 0 0.25em; line-height: 1; border-radius: 0.35em;\">\n",
              "    России\n",
              "    <span style=\"font-size: 0.8em; font-weight: bold; line-height: 1; border-radius: 0.35em; vertical-align: middle; margin-left: 0.5rem\">LOC</span>\n",
              "</mark>\n",
              " по \n",
              "<mark class=\"entity\" style=\"background: #ff9561; padding: 0.45em 0.6em; margin: 0 0.25em; line-height: 1; border-radius: 0.35em;\">\n",
              "    Воронежской области\n",
              "    <span style=\"font-size: 0.8em; font-weight: bold; line-height: 1; border-radius: 0.35em; vertical-align: middle; margin-left: 0.5rem\">LOC</span>\n",
              "</mark>\n",
              " пресекли факт получения незаконного денежного вознаграждения полицейским \n",
              "<mark class=\"entity\" style=\"background: #7aecec; padding: 0.45em 0.6em; margin: 0 0.25em; line-height: 1; border-radius: 0.35em;\">\n",
              "    ОП № 5\n",
              "    <span style=\"font-size: 0.8em; font-weight: bold; line-height: 1; border-radius: 0.35em; vertical-align: middle; margin-left: 0.5rem\">ORG</span>\n",
              "</mark>\n",
              " \n",
              "<mark class=\"entity\" style=\"background: #7aecec; padding: 0.45em 0.6em; margin: 0 0.25em; line-height: 1; border-radius: 0.35em;\">\n",
              "    УМВД\n",
              "    <span style=\"font-size: 0.8em; font-weight: bold; line-height: 1; border-radius: 0.35em; vertical-align: middle; margin-left: 0.5rem\">ORG</span>\n",
              "</mark>\n",
              " \n",
              "<mark class=\"entity\" style=\"background: #ff9561; padding: 0.45em 0.6em; margin: 0 0.25em; line-height: 1; border-radius: 0.35em;\">\n",
              "    России\n",
              "    <span style=\"font-size: 0.8em; font-weight: bold; line-height: 1; border-radius: 0.35em; vertical-align: middle; margin-left: 0.5rem\">LOC</span>\n",
              "</mark>\n",
              " по г. \n",
              "<mark class=\"entity\" style=\"background: #ff9561; padding: 0.45em 0.6em; margin: 0 0.25em; line-height: 1; border-radius: 0.35em;\">\n",
              "    Воронежу\n",
              "    <span style=\"font-size: 0.8em; font-weight: bold; line-height: 1; border-radius: 0.35em; vertical-align: middle; margin-left: 0.5rem\">LOC</span>\n",
              "</mark>\n",
              ". Старший участковый уполномоченный требовал от жителя областного центра 30 тысяч рублей за не привлечение ее к уголовной ответственности. По материалам проверки, проведенной сотрудниками \n",
              "<mark class=\"entity\" style=\"background: #7aecec; padding: 0.45em 0.6em; margin: 0 0.25em; line-height: 1; border-radius: 0.35em;\">\n",
              "    ОРЧ\n",
              "    <span style=\"font-size: 0.8em; font-weight: bold; line-height: 1; border-radius: 0.35em; vertical-align: middle; margin-left: 0.5rem\">ORG</span>\n",
              "</mark>\n",
              " \n",
              "<mark class=\"entity\" style=\"background: #7aecec; padding: 0.45em 0.6em; margin: 0 0.25em; line-height: 1; border-radius: 0.35em;\">\n",
              "    СБ\n",
              "    <span style=\"font-size: 0.8em; font-weight: bold; line-height: 1; border-radius: 0.35em; vertical-align: middle; margin-left: 0.5rem\">ORG</span>\n",
              "</mark>\n",
              " \n",
              "<mark class=\"entity\" style=\"background: #7aecec; padding: 0.45em 0.6em; margin: 0 0.25em; line-height: 1; border-radius: 0.35em;\">\n",
              "    ГУ\n",
              "    <span style=\"font-size: 0.8em; font-weight: bold; line-height: 1; border-radius: 0.35em; vertical-align: middle; margin-left: 0.5rem\">ORG</span>\n",
              "</mark>\n",
              " \n",
              "<mark class=\"entity\" style=\"background: #7aecec; padding: 0.45em 0.6em; margin: 0 0.25em; line-height: 1; border-radius: 0.35em;\">\n",
              "    МВД\n",
              "    <span style=\"font-size: 0.8em; font-weight: bold; line-height: 1; border-radius: 0.35em; vertical-align: middle; margin-left: 0.5rem\">ORG</span>\n",
              "</mark>\n",
              " \n",
              "<mark class=\"entity\" style=\"background: #ff9561; padding: 0.45em 0.6em; margin: 0 0.25em; line-height: 1; border-radius: 0.35em;\">\n",
              "    России\n",
              "    <span style=\"font-size: 0.8em; font-weight: bold; line-height: 1; border-radius: 0.35em; vertical-align: middle; margin-left: 0.5rem\">LOC</span>\n",
              "</mark>\n",
              " по \n",
              "<mark class=\"entity\" style=\"background: #ff9561; padding: 0.45em 0.6em; margin: 0 0.25em; line-height: 1; border-radius: 0.35em;\">\n",
              "    Воронежской области\n",
              "    <span style=\"font-size: 0.8em; font-weight: bold; line-height: 1; border-radius: 0.35em; vertical-align: middle; margin-left: 0.5rem\">LOC</span>\n",
              "</mark>\n",
              " принято процессуальное решение.\r</br>\r</br>В \n",
              "<mark class=\"entity\" style=\"background: #7aecec; padding: 0.45em 0.6em; margin: 0 0.25em; line-height: 1; border-radius: 0.35em;\">\n",
              "    ГУ\n",
              "    <span style=\"font-size: 0.8em; font-weight: bold; line-height: 1; border-radius: 0.35em; vertical-align: middle; margin-left: 0.5rem\">ORG</span>\n",
              "</mark>\n",
              " \n",
              "<mark class=\"entity\" style=\"background: #7aecec; padding: 0.45em 0.6em; margin: 0 0.25em; line-height: 1; border-radius: 0.35em;\">\n",
              "    МВД\n",
              "    <span style=\"font-size: 0.8em; font-weight: bold; line-height: 1; border-radius: 0.35em; vertical-align: middle; margin-left: 0.5rem\">ORG</span>\n",
              "</mark>\n",
              " \n",
              "<mark class=\"entity\" style=\"background: #ff9561; padding: 0.45em 0.6em; margin: 0 0.25em; line-height: 1; border-radius: 0.35em;\">\n",
              "    России\n",
              "    <span style=\"font-size: 0.8em; font-weight: bold; line-height: 1; border-radius: 0.35em; vertical-align: middle; margin-left: 0.5rem\">LOC</span>\n",
              "</mark>\n",
              " по \n",
              "<mark class=\"entity\" style=\"background: #ff9561; padding: 0.45em 0.6em; margin: 0 0.25em; line-height: 1; border-radius: 0.35em;\">\n",
              "    Воронежской области\n",
              "    <span style=\"font-size: 0.8em; font-weight: bold; line-height: 1; border-radius: 0.35em; vertical-align: middle; margin-left: 0.5rem\">LOC</span>\n",
              "</mark>\n",
              " проведена служебная проверка. Полицейский уволен из органов внутренних дел.\r</br>\r</br>Кроме того, за ненадлежащий контроль за подчиненным из органов внутренних дел уволены заместитель начальника \n",
              "<mark class=\"entity\" style=\"background: #7aecec; padding: 0.45em 0.6em; margin: 0 0.25em; line-height: 1; border-radius: 0.35em;\">\n",
              "    ОП № 5\n",
              "    <span style=\"font-size: 0.8em; font-weight: bold; line-height: 1; border-radius: 0.35em; vertical-align: middle; margin-left: 0.5rem\">ORG</span>\n",
              "</mark>\n",
              " \n",
              "<mark class=\"entity\" style=\"background: #7aecec; padding: 0.45em 0.6em; margin: 0 0.25em; line-height: 1; border-radius: 0.35em;\">\n",
              "    УМВД\n",
              "    <span style=\"font-size: 0.8em; font-weight: bold; line-height: 1; border-radius: 0.35em; vertical-align: middle; margin-left: 0.5rem\">ORG</span>\n",
              "</mark>\n",
              " \n",
              "<mark class=\"entity\" style=\"background: #ff9561; padding: 0.45em 0.6em; margin: 0 0.25em; line-height: 1; border-radius: 0.35em;\">\n",
              "    России\n",
              "    <span style=\"font-size: 0.8em; font-weight: bold; line-height: 1; border-radius: 0.35em; vertical-align: middle; margin-left: 0.5rem\">LOC</span>\n",
              "</mark>\n",
              " по г. \n",
              "<mark class=\"entity\" style=\"background: #ff9561; padding: 0.45em 0.6em; margin: 0 0.25em; line-height: 1; border-radius: 0.35em;\">\n",
              "    Воронежу\n",
              "    <span style=\"font-size: 0.8em; font-weight: bold; line-height: 1; border-radius: 0.35em; vertical-align: middle; margin-left: 0.5rem\">LOC</span>\n",
              "</mark>\n",
              ", начальник отдела участковых уполномоченных и по делам несовершеннолетних \n",
              "<mark class=\"entity\" style=\"background: #7aecec; padding: 0.45em 0.6em; margin: 0 0.25em; line-height: 1; border-radius: 0.35em;\">\n",
              "    ОП № 5\n",
              "    <span style=\"font-size: 0.8em; font-weight: bold; line-height: 1; border-radius: 0.35em; vertical-align: middle; margin-left: 0.5rem\">ORG</span>\n",
              "</mark>\n",
              " \n",
              "<mark class=\"entity\" style=\"background: #7aecec; padding: 0.45em 0.6em; margin: 0 0.25em; line-height: 1; border-radius: 0.35em;\">\n",
              "    УМВД\n",
              "    <span style=\"font-size: 0.8em; font-weight: bold; line-height: 1; border-radius: 0.35em; vertical-align: middle; margin-left: 0.5rem\">ORG</span>\n",
              "</mark>\n",
              " \n",
              "<mark class=\"entity\" style=\"background: #ff9561; padding: 0.45em 0.6em; margin: 0 0.25em; line-height: 1; border-radius: 0.35em;\">\n",
              "    России\n",
              "    <span style=\"font-size: 0.8em; font-weight: bold; line-height: 1; border-radius: 0.35em; vertical-align: middle; margin-left: 0.5rem\">LOC</span>\n",
              "</mark>\n",
              " по г. \n",
              "<mark class=\"entity\" style=\"background: #ff9561; padding: 0.45em 0.6em; margin: 0 0.25em; line-height: 1; border-radius: 0.35em;\">\n",
              "    Воронежу\n",
              "    <span style=\"font-size: 0.8em; font-weight: bold; line-height: 1; border-radius: 0.35em; vertical-align: middle; margin-left: 0.5rem\">LOC</span>\n",
              "</mark>\n",
              ", заместитель начальника отдела участковых уполномоченных и по делам несовершеннолетних \n",
              "<mark class=\"entity\" style=\"background: #7aecec; padding: 0.45em 0.6em; margin: 0 0.25em; line-height: 1; border-radius: 0.35em;\">\n",
              "    ОП № 5\n",
              "    <span style=\"font-size: 0.8em; font-weight: bold; line-height: 1; border-radius: 0.35em; vertical-align: middle; margin-left: 0.5rem\">ORG</span>\n",
              "</mark>\n",
              " \n",
              "<mark class=\"entity\" style=\"background: #7aecec; padding: 0.45em 0.6em; margin: 0 0.25em; line-height: 1; border-radius: 0.35em;\">\n",
              "    УМВД\n",
              "    <span style=\"font-size: 0.8em; font-weight: bold; line-height: 1; border-radius: 0.35em; vertical-align: middle; margin-left: 0.5rem\">ORG</span>\n",
              "</mark>\n",
              " \n",
              "<mark class=\"entity\" style=\"background: #ff9561; padding: 0.45em 0.6em; margin: 0 0.25em; line-height: 1; border-radius: 0.35em;\">\n",
              "    России\n",
              "    <span style=\"font-size: 0.8em; font-weight: bold; line-height: 1; border-radius: 0.35em; vertical-align: middle; margin-left: 0.5rem\">LOC</span>\n",
              "</mark>\n",
              " по г. \n",
              "<mark class=\"entity\" style=\"background: #ff9561; padding: 0.45em 0.6em; margin: 0 0.25em; line-height: 1; border-radius: 0.35em;\">\n",
              "    Воронежу\n",
              "    <span style=\"font-size: 0.8em; font-weight: bold; line-height: 1; border-radius: 0.35em; vertical-align: middle; margin-left: 0.5rem\">LOC</span>\n",
              "</mark>\n",
              ".\r</br>Новости по теме «Коррупция»:\r</br>\r</br>    Из-за подчиненного-взяточника должностей лишились трое полицейских начальников (Воронеж)(http://www.regnum.ru/news/1600115.html)\r</br>    В \n",
              "<mark class=\"entity\" style=\"background: #ff9561; padding: 0.45em 0.6em; margin: 0 0.25em; line-height: 1; border-radius: 0.35em;\">\n",
              "    Ульяновске\n",
              "    <span style=\"font-size: 0.8em; font-weight: bold; line-height: 1; border-radius: 0.35em; vertical-align: middle; margin-left: 0.5rem\">LOC</span>\n",
              "</mark>\n",
              " бывшего директора завода &quot;\n",
              "<mark class=\"entity\" style=\"background: #7aecec; padding: 0.45em 0.6em; margin: 0 0.25em; line-height: 1; border-radius: 0.35em;\">\n",
              "    Комета\n",
              "    <span style=\"font-size: 0.8em; font-weight: bold; line-height: 1; border-radius: 0.35em; vertical-align: middle; margin-left: 0.5rem\">ORG</span>\n",
              "</mark>\n",
              "&quot; подозревают в коррупции(http://www.regnum.ru/news/1600072.html)\r</br>    Торговец игрушками на вокзале в \n",
              "<mark class=\"entity\" style=\"background: #ff9561; padding: 0.45em 0.6em; margin: 0 0.25em; line-height: 1; border-radius: 0.35em;\">\n",
              "    Южно-Сахалинске\n",
              "    <span style=\"font-size: 0.8em; font-weight: bold; line-height: 1; border-radius: 0.35em; vertical-align: middle; margin-left: 0.5rem\">LOC</span>\n",
              "</mark>\n",
              " попытался дать взятку сотруднику ППС(http://www.regnum.ru/news/1600064.html)\r</br>    В \n",
              "<mark class=\"entity\" style=\"background: #ff9561; padding: 0.45em 0.6em; margin: 0 0.25em; line-height: 1; border-radius: 0.35em;\">\n",
              "    Самарской области\n",
              "    <span style=\"font-size: 0.8em; font-weight: bold; line-height: 1; border-radius: 0.35em; vertical-align: middle; margin-left: 0.5rem\">LOC</span>\n",
              "</mark>\n",
              " прокуратура заинтересовалась воровством в ЖКХ(http://www.regnum.ru/news/1600076.html)\r</br>    В \n",
              "<mark class=\"entity\" style=\"background: #ff9561; padding: 0.45em 0.6em; margin: 0 0.25em; line-height: 1; border-radius: 0.35em;\">\n",
              "    Татарстане\n",
              "    <span style=\"font-size: 0.8em; font-weight: bold; line-height: 1; border-radius: 0.35em; vertical-align: middle; margin-left: 0.5rem\">LOC</span>\n",
              "</mark>\n",
              " продолжают избирательно наказывать русских националистов(http://www.regnum.ru/news/1599988.html)\r</br>\r</br>Все новости в сюжете «\n",
              "<mark class=\"entity\" style=\"background: #7aecec; padding: 0.45em 0.6em; margin: 0 0.25em; line-height: 1; border-radius: 0.35em;\">\n",
              "    Коррупция\n",
              "    <span style=\"font-size: 0.8em; font-weight: bold; line-height: 1; border-radius: 0.35em; vertical-align: middle; margin-left: 0.5rem\">ORG</span>\n",
              "</mark>\n",
              "»: http://www.regnum.ru/dossier/279.html (12281 новость)\r</br>Новости по теме «Расследование преступлений сотрудников правоохранительных органов»:</div></span>"
            ]
          },
          "metadata": {}
        }
      ]
    },
    {
      "cell_type": "code",
      "source": [
        "for token in article:\n",
        "    print(token.text, token.pos_, token.dep_)"
      ],
      "metadata": {
        "colab": {
          "base_uri": "https://localhost:8080/"
        },
        "id": "cnTYlJXo9l_e",
        "outputId": "fbd89998-a5d9-4892-9c9f-0686240a9866"
      },
      "execution_count": 39,
      "outputs": [
        {
          "output_type": "stream",
          "name": "stdout",
          "text": [
            "Из ADP case\n",
            "- ADP case\n",
            "за ADP case\n",
            "подчиненного NOUN obl\n",
            "- NOUN obl\n",
            "взяточника NOUN obl\n",
            "должностей NOUN obj\n",
            "лишились VERB ROOT\n",
            "трое NUM nummod:gov\n",
            "полицейских ADJ amod\n",
            "начальников NOUN nsubj\n",
            "( PUNCT punct\n",
            "Воронеж PROPN parataxis\n",
            ") PUNCT punct\n",
            "\r\n",
            "\r\n",
            " SPACE dep\n",
            "В ADP case\n",
            "Воронеже PROPN obl\n",
            "участковый NOUN nsubj:pass\n",
            "уволен VERB conj\n",
            "за ADP case\n",
            "получение NOUN obl\n",
            "взятки NOUN nmod\n",
            ", PUNCT punct\n",
            "должностей NOUN obj\n",
            "лишились VERB conj\n",
            "также ADV advmod\n",
            "трое NUM nummod:gov\n",
            "его PRON nmod\n",
            "начальников NOUN nsubj\n",
            ", PUNCT punct\n",
            "сообщили VERB parataxis\n",
            "корреспонденту NOUN iobj\n",
            "ИА PROPN nmod\n",
            "REGNUM PROPN appos\n",
            "в ADP case\n",
            "пресс NOUN obl\n",
            "- NOUN obl\n",
            "службе NOUN obl\n",
            "ГУ PROPN nmod\n",
            "МВД PROPN nmod\n",
            "РФ PROPN nmod\n",
            "по ADP case\n",
            "региону NOUN nmod\n",
            ". PUNCT punct\n",
            "\r\n",
            "\r\n",
            " SPACE dep\n",
            "Сотрудники NOUN nsubj\n",
            "оперативно ADJ amod\n",
            "- ADJ amod\n",
            "разыскной ADJ amod\n",
            "части NOUN nmod\n",
            "собственной ADJ amod\n",
            "безопасности NOUN nmod\n",
            "ГУ PROPN nmod\n",
            "МВД PROPN nmod\n",
            "России PROPN nmod\n",
            "по ADP case\n",
            "Воронежской ADJ amod\n",
            "области NOUN nmod\n",
            "пресекли VERB ROOT\n",
            "факт NOUN obj\n",
            "получения NOUN nmod\n",
            "незаконного ADJ amod\n",
            "денежного ADJ amod\n",
            "вознаграждения NOUN nmod\n",
            "полицейским NOUN iobj\n",
            "ОП PROPN nmod\n",
            "№ SYM nummod:entity\n",
            "5 NUM appos\n",
            "УМВД PROPN nmod\n",
            "России PROPN nmod\n",
            "по ADP case\n",
            "г. NOUN nmod\n",
            "Воронежу PROPN appos\n",
            ". PUNCT punct\n",
            "Старший ADJ amod\n",
            "участковый NOUN amod\n",
            "уполномоченный NOUN nsubj\n",
            "требовал VERB ROOT\n",
            "от ADP case\n",
            "жителя NOUN obl\n",
            "областного ADJ amod\n",
            "центра NOUN nmod\n",
            "30 NUM nummod\n",
            "тысяч NOUN nummod\n",
            "рублей NOUN obj\n",
            "за ADP case\n",
            "не PART advmod\n",
            "привлечение NOUN obl\n",
            "ее PRON nmod\n",
            "к ADP case\n",
            "уголовной ADJ amod\n",
            "ответственности NOUN nmod\n",
            ". PUNCT punct\n",
            "По ADP case\n",
            "материалам NOUN obl\n",
            "проверки NOUN nmod\n",
            ", PUNCT punct\n",
            "проведенной VERB acl\n",
            "сотрудниками NOUN obl:agent\n",
            "ОРЧ PROPN nmod\n",
            "СБ PROPN nmod\n",
            "ГУ PROPN nmod\n",
            "МВД PROPN nmod\n",
            "России PROPN nmod\n",
            "по ADP case\n",
            "Воронежской ADJ amod\n",
            "области NOUN nmod\n",
            "принято VERB ROOT\n",
            "процессуальное ADJ amod\n",
            "решение NOUN nsubj:pass\n",
            ". PUNCT punct\n",
            "\r\n",
            "\r\n",
            " SPACE dep\n",
            "В ADP case\n",
            "ГУ PROPN obl\n",
            "МВД PROPN nmod\n",
            "России PROPN nmod\n",
            "по ADP case\n",
            "Воронежской ADJ amod\n",
            "области NOUN nmod\n",
            "проведена VERB ROOT\n",
            "служебная ADJ amod\n",
            "проверка NOUN nsubj:pass\n",
            ". PUNCT punct\n",
            "Полицейский NOUN nsubj:pass\n",
            "уволен VERB ROOT\n",
            "из ADP case\n",
            "органов NOUN obl\n",
            "внутренних ADJ amod\n",
            "дел NOUN nmod\n",
            ". PUNCT punct\n",
            "\r\n",
            "\r\n",
            " SPACE dep\n",
            "Кроме ADP case\n",
            "того PRON parataxis\n",
            ", PUNCT punct\n",
            "за ADP case\n",
            "ненадлежащий ADJ amod\n",
            "контроль NOUN obl\n",
            "за ADP case\n",
            "подчиненным VERB nmod\n",
            "из ADP case\n",
            "органов NOUN nmod\n",
            "внутренних ADJ amod\n",
            "дел NOUN nmod\n",
            "уволены VERB ROOT\n",
            "заместитель NOUN nsubj:pass\n",
            "начальника NOUN nmod\n",
            "ОП PROPN nmod\n",
            "№ SYM nummod:entity\n",
            "5 NUM appos\n",
            "УМВД PROPN nmod\n",
            "России PROPN nmod\n",
            "по ADP case\n",
            "г. NOUN nmod\n",
            "Воронежу PROPN appos\n",
            ", PUNCT punct\n",
            "начальник NOUN appos\n",
            "отдела NOUN nmod\n",
            "участковых ADJ amod\n",
            "уполномоченных NOUN nmod\n",
            "и CCONJ cc\n",
            "по ADP case\n",
            "делам NOUN conj\n",
            "несовершеннолетних NOUN nmod\n",
            "ОП PROPN nmod\n",
            "№ SYM nummod:entity\n",
            "5 NUM appos\n",
            "УМВД PROPN nmod\n",
            "России PROPN nmod\n",
            "по ADP case\n",
            "г. NOUN nmod\n",
            "Воронежу PROPN appos\n",
            ", PUNCT punct\n",
            "заместитель NOUN appos\n",
            "начальника NOUN nmod\n",
            "отдела NOUN nmod\n",
            "участковых ADJ amod\n",
            "уполномоченных NOUN nmod\n",
            "и CCONJ cc\n",
            "по ADP case\n",
            "делам NOUN conj\n",
            "несовершеннолетних NOUN nmod\n",
            "ОП PROPN nmod\n",
            "№ SYM nummod:entity\n",
            "5 NUM appos\n",
            "УМВД PROPN nmod\n",
            "России PROPN nmod\n",
            "по ADP case\n",
            "г. NOUN nmod\n",
            "Воронежу PROPN appos\n",
            ". PUNCT punct\n",
            "\n",
            " SPACE dep\n",
            "Новости NOUN ROOT\n",
            "по ADP case\n",
            "теме NOUN nmod\n",
            "« PUNCT punct\n",
            "Коррупция NOUN appos\n",
            "» PUNCT punct\n",
            ": PUNCT punct\n",
            "\n",
            "\n",
            "     SPACE dep\n",
            "Из ADP case\n",
            "- ADP case\n",
            "за ADP case\n",
            "подчиненного NOUN obl\n",
            "- NOUN obl\n",
            "взяточника NOUN obl\n",
            "должностей NOUN obj\n",
            "лишились VERB parataxis\n",
            "трое NUM nummod:gov\n",
            "полицейских ADJ amod\n",
            "начальников NOUN nsubj\n",
            "( PUNCT punct\n",
            "Воронеж)(http://www.regnum.ru PROPN parataxis\n",
            "/ PUNCT punct\n",
            "news/1600115.html PROPN appos\n",
            ") PUNCT punct\n",
            "\n",
            "     SPACE dep\n",
            "В ADP case\n",
            "Ульяновске PROPN obl\n",
            "бывшего ADJ amod\n",
            "директора NOUN obj\n",
            "завода NOUN nmod\n",
            "\" PUNCT punct\n",
            "Комета NOUN appos\n",
            "\" PUNCT punct\n",
            "подозревают VERB conj\n",
            "в ADP case\n",
            "коррупции(http://www.regnum.ru PROPN obl\n",
            "/ PUNCT punct\n",
            "news/1600072.html X appos\n",
            ") PUNCT punct\n",
            "\n",
            "     SPACE dep\n",
            "Торговец PROPN nsubj\n",
            "игрушками NOUN obl\n",
            "на ADP case\n",
            "вокзале NOUN nmod\n",
            "в ADP case\n",
            "Южно PROPN nmod\n",
            "- PROPN nmod\n",
            "Сахалинске PROPN nmod\n",
            "попытался VERB conj\n",
            "дать VERB xcomp\n",
            "взятку NOUN obj\n",
            "сотруднику NOUN iobj\n",
            "ППС(http://www.regnum.ru PROPN appos\n",
            "/ PUNCT punct\n",
            "news/1600064.html PROPN appos\n",
            ") PUNCT punct\n",
            "\n",
            "     SPACE dep\n",
            "В ADP case\n",
            "Самарской ADJ amod\n",
            "области NOUN obl\n",
            "прокуратура NOUN nsubj\n",
            "заинтересовалась VERB conj\n",
            "воровством NOUN obl\n",
            "в ADP case\n",
            "ЖКХ(http://www.regnum.ru PROPN nmod\n",
            "/ PUNCT punct\n",
            "news/1600076.html PROPN appos\n",
            ") PUNCT punct\n",
            "\n",
            "     SPACE dep\n",
            "В ADP case\n",
            "Татарстане PROPN obl\n",
            "продолжают VERB conj\n",
            "избирательно ADV advmod\n",
            "наказывать VERB xcomp\n",
            "русских ADJ amod\n",
            "националистов(http://www.regnum.ru PROPN obj\n",
            "/ PUNCT punct\n",
            "news/1599988.html X appos\n",
            ") PUNCT punct\n",
            "\n",
            "\n",
            " SPACE dep\n",
            "Все DET det\n",
            "новости NOUN nmod\n",
            "в ADP case\n",
            "сюжете NOUN nmod\n",
            "« PUNCT punct\n",
            "Коррупция NOUN appos\n",
            "» PUNCT punct\n",
            ": PUNCT punct\n",
            "http://www.regnum.ru/dossier/279.html PROPN appos\n",
            "( PUNCT punct\n",
            "12281 ADJ nummod\n",
            "новость NOUN parataxis\n",
            ") PUNCT punct\n",
            "\n",
            " SPACE dep\n",
            "Новости PROPN appos\n",
            "по ADP case\n",
            "теме NOUN nmod\n",
            "« PUNCT punct\n",
            "Расследование NOUN appos\n",
            "преступлений NOUN nmod\n",
            "сотрудников NOUN nmod\n",
            "правоохранительных ADJ amod\n",
            "органов NOUN nmod\n",
            "» PUNCT punct\n",
            ": PUNCT punct\n"
          ]
        }
      ]
    },
    {
      "cell_type": "code",
      "source": [
        "!pip install razdel"
      ],
      "metadata": {
        "colab": {
          "base_uri": "https://localhost:8080/"
        },
        "id": "XAWjlaqz92sd",
        "outputId": "1ae11959-1474-4bc2-e0fc-2ba1ca476ff4"
      },
      "execution_count": 40,
      "outputs": [
        {
          "output_type": "stream",
          "name": "stdout",
          "text": [
            "Looking in indexes: https://pypi.org/simple, https://us-python.pkg.dev/colab-wheels/public/simple/\n",
            "Collecting razdel\n",
            "  Downloading razdel-0.5.0-py3-none-any.whl (21 kB)\n",
            "Installing collected packages: razdel\n",
            "Successfully installed razdel-0.5.0\n"
          ]
        }
      ]
    },
    {
      "cell_type": "code",
      "source": [
        "from razdel import tokenize"
      ],
      "metadata": {
        "id": "wv1wGjF396tm"
      },
      "execution_count": 41,
      "outputs": []
    },
    {
      "cell_type": "code",
      "source": [
        "words_docs = []\n",
        "for ix, rec in enumerate(records):\n",
        "    words = []\n",
        "    for token in tokenize(rec.text):\n",
        "        \n",
        "        type_ent = 'OUT'\n",
        "        for ent in rec.spans:\n",
        "            if (token.start >= ent.start) and (token.stop <= ent.stop):\n",
        "                type_ent = ent.type\n",
        "                break\n",
        "        words.append([token.text, type_ent])\n",
        "    words_docs.extend(words)"
      ],
      "metadata": {
        "id": "cvuQwBz_982e"
      },
      "execution_count": 42,
      "outputs": []
    },
    {
      "cell_type": "code",
      "source": [
        "df_words = pd.DataFrame(words_docs, columns=['word', 'tag'])"
      ],
      "metadata": {
        "id": "crS1n3Wl9-C3"
      },
      "execution_count": 43,
      "outputs": []
    },
    {
      "cell_type": "code",
      "source": [
        "df_words['tag'].value_counts()"
      ],
      "metadata": {
        "colab": {
          "base_uri": "https://localhost:8080/"
        },
        "id": "fmupEIBT9-8-",
        "outputId": "1b4963af-9e0b-4f5a-87dc-a7d0a58ca2fb"
      },
      "execution_count": 44,
      "outputs": [
        {
          "output_type": "execute_result",
          "data": {
            "text/plain": [
              "OUT         218911\n",
              "PER          21200\n",
              "ORG          13623\n",
              "LOC           4551\n",
              "GEOPOLIT      4347\n",
              "MEDIA         2480\n",
              "Name: tag, dtype: int64"
            ]
          },
          "metadata": {},
          "execution_count": 44
        }
      ]
    },
    {
      "cell_type": "code",
      "source": [
        "import tensorflow as tf\n",
        "from tensorflow.keras import Sequential\n",
        "from tensorflow.keras.layers import Dense, Embedding, GlobalAveragePooling1D, GlobalMaxPooling1D, Conv1D, GRU, LSTM, Dropout, Input, Bidirectional,Reshape\n",
        "from tensorflow.keras.layers.experimental.preprocessing import TextVectorization\n",
        "from sklearn import model_selection, preprocessing, linear_model"
      ],
      "metadata": {
        "id": "VbI08wF5-AkO"
      },
      "execution_count": 45,
      "outputs": []
    },
    {
      "cell_type": "code",
      "source": [
        "train_x, valid_x, train_y, valid_y = model_selection.train_test_split(df_words['word'], df_words['tag'])\n",
        "\n",
        "encoder = preprocessing.LabelEncoder()\n",
        "train_y = encoder.fit_transform(train_y)\n",
        "valid_y = encoder.fit_transform(valid_y)"
      ],
      "metadata": {
        "id": "HcSeXclF-BuN"
      },
      "execution_count": 46,
      "outputs": []
    },
    {
      "cell_type": "code",
      "source": [
        "train_data = tf.data.Dataset.from_tensor_slices((train_x, train_y))\n",
        "valid_data = tf.data.Dataset.from_tensor_slices((valid_x, valid_y))\n",
        "\n",
        "train_data = train_data.batch(2048)\n",
        "valid_data = valid_data.batch(2048)"
      ],
      "metadata": {
        "id": "N-USAeoy-Dam"
      },
      "execution_count": 47,
      "outputs": []
    },
    {
      "cell_type": "code",
      "source": [
        "AUTOTUNE = tf.data.AUTOTUNE\n",
        "\n",
        "train_data = train_data.cache().prefetch(buffer_size=AUTOTUNE)\n",
        "valid_data = valid_data.cache().prefetch(buffer_size=AUTOTUNE)"
      ],
      "metadata": {
        "id": "DlgXrMyF-E2N"
      },
      "execution_count": 48,
      "outputs": []
    },
    {
      "cell_type": "code",
      "source": [
        "def custom_standardization(input_data):\n",
        "    return input_data\n",
        "\n",
        "vocab_size = 30000\n",
        "seq_len = 10\n",
        "\n",
        "\n",
        "vectorize_layer = TextVectorization(\n",
        "    standardize=custom_standardization,\n",
        "    max_tokens=vocab_size,\n",
        "    output_mode='int',\n",
        "    output_sequence_length=seq_len\n",
        "    )\n",
        "\n",
        "text_data = train_data.map(lambda x, y: x)\n",
        "vectorize_layer.adapt(text_data)"
      ],
      "metadata": {
        "id": "EbhkpOP4-GCF"
      },
      "execution_count": 49,
      "outputs": []
    },
    {
      "cell_type": "code",
      "source": [
        "t=np.unique(encoder.inverse_transform(valid_y),return_counts=True)[1]\n",
        "t=t/t.sum()"
      ],
      "metadata": {
        "id": "4lFoxdoN-HC9"
      },
      "execution_count": 50,
      "outputs": []
    },
    {
      "cell_type": "code",
      "source": [
        "model = tf.keras.Sequential([\n",
        "  vectorize_layer,\n",
        "  tf.keras.layers.Embedding(len(vectorize_layer.get_vocabulary()), 64, mask_zero=True),\n",
        "  tf.keras.layers.GlobalAveragePooling1D(),\n",
        "  tf.keras.layers.Dense(300, activation='relu'),\n",
        "  tf.keras.layers.Dropout(0.5),\n",
        "  tf.keras.layers.Dense(50, activation='relu'),\n",
        "  tf.keras.layers.Dense(6, activation='softmax')\n",
        "  ])"
      ],
      "metadata": {
        "id": "qZMqWCZs-H5l"
      },
      "execution_count": 51,
      "outputs": []
    },
    {
      "cell_type": "code",
      "source": [
        "model.compile(optimizer='adam',         \n",
        "              loss=tf.keras.losses.SparseCategoricalCrossentropy(),\n",
        "              metrics=['accuracy'])\n",
        "model.fit(train_data, validation_data=valid_data, epochs=5)"
      ],
      "metadata": {
        "colab": {
          "base_uri": "https://localhost:8080/"
        },
        "id": "zQttoSab-JBd",
        "outputId": "3580e8ea-63dd-4337-ff46-75b69bf22144"
      },
      "execution_count": 52,
      "outputs": [
        {
          "output_type": "stream",
          "name": "stdout",
          "text": [
            "Epoch 1/5\n",
            "98/98 [==============================] - 11s 87ms/step - loss: 0.7604 - accuracy: 0.8182 - val_loss: 0.4190 - val_accuracy: 0.8605\n",
            "Epoch 2/5\n",
            "98/98 [==============================] - 6s 60ms/step - loss: 0.2743 - accuracy: 0.9079 - val_loss: 0.2938 - val_accuracy: 0.9285\n",
            "Epoch 3/5\n",
            "98/98 [==============================] - 8s 81ms/step - loss: 0.1557 - accuracy: 0.9535 - val_loss: 0.2732 - val_accuracy: 0.9392\n",
            "Epoch 4/5\n",
            "98/98 [==============================] - 5s 50ms/step - loss: 0.1240 - accuracy: 0.9623 - val_loss: 0.2687 - val_accuracy: 0.9403\n",
            "Epoch 5/5\n",
            "98/98 [==============================] - 5s 50ms/step - loss: 0.1153 - accuracy: 0.9634 - val_loss: 0.2665 - val_accuracy: 0.9411\n"
          ]
        },
        {
          "output_type": "execute_result",
          "data": {
            "text/plain": [
              "<keras.callbacks.History at 0x7f90ba8404c0>"
            ]
          },
          "metadata": {},
          "execution_count": 52
        }
      ]
    },
    {
      "cell_type": "code",
      "source": [
        "pred=model.predict(valid_data)"
      ],
      "metadata": {
        "colab": {
          "base_uri": "https://localhost:8080/"
        },
        "id": "EIlqtDKp-KQ9",
        "outputId": "b8513e09-e3b1-4e0e-bcd9-43f3cddb85f1"
      },
      "execution_count": 53,
      "outputs": [
        {
          "output_type": "stream",
          "name": "stdout",
          "text": [
            "33/33 [==============================] - 0s 10ms/step\n"
          ]
        }
      ]
    },
    {
      "cell_type": "code",
      "source": [
        "list(zip(encoder.classes_,pred.mean(axis=0)/t))"
      ],
      "metadata": {
        "colab": {
          "base_uri": "https://localhost:8080/"
        },
        "id": "yUhnpIDB-LL1",
        "outputId": "63b36236-ecdd-4c56-ba8c-84ef9aec97da"
      },
      "execution_count": 54,
      "outputs": [
        {
          "output_type": "execute_result",
          "data": {
            "text/plain": [
              "[('GEOPOLIT', 0.9660583205350283),\n",
              " ('LOC', 0.9140227697502329),\n",
              " ('MEDIA', 0.9152980584028253),\n",
              " ('ORG', 0.8899091011574607),\n",
              " ('OUT', 1.030093689454892),\n",
              " ('PER', 0.7989871401380951)]"
            ]
          },
          "metadata": {},
          "execution_count": 54
        }
      ]
    },
    {
      "cell_type": "code",
      "source": [
        "model = tf.keras.Sequential([\n",
        "    vectorize_layer,\n",
        "    tf.keras.layers.Embedding(len(vectorize_layer.get_vocabulary()), 64, mask_zero=True),\n",
        "    tf.keras.layers.Bidirectional(tf.keras.layers.GRU(64)),\n",
        "    tf.keras.layers.Dense(64, activation='relu'),\n",
        "    tf.keras.layers.Dropout(0.5),\n",
        "    tf.keras.layers.Dense(6,activation='softmax')\n",
        "])"
      ],
      "metadata": {
        "id": "vQuqTdIB-MFl"
      },
      "execution_count": 55,
      "outputs": []
    },
    {
      "cell_type": "code",
      "source": [
        "model.compile(optimizer='adam',\n",
        "              loss=tf.keras.losses.SparseCategoricalCrossentropy(),\n",
        "              metrics=['accuracy'])"
      ],
      "metadata": {
        "id": "FmoNMmwf-M8N"
      },
      "execution_count": 56,
      "outputs": []
    },
    {
      "cell_type": "code",
      "source": [
        "model.fit(train_data, validation_data=valid_data, epochs=5)"
      ],
      "metadata": {
        "colab": {
          "base_uri": "https://localhost:8080/"
        },
        "id": "ewRV_FhW-Nwu",
        "outputId": "5bad905a-1160-4562-ef1d-d49701de1697"
      },
      "execution_count": 57,
      "outputs": [
        {
          "output_type": "stream",
          "name": "stdout",
          "text": [
            "Epoch 1/5\n",
            "98/98 [==============================] - 45s 367ms/step - loss: 0.8336 - accuracy: 0.8198 - val_loss: 0.4078 - val_accuracy: 0.8602\n",
            "Epoch 2/5\n",
            "98/98 [==============================] - 34s 351ms/step - loss: 0.3022 - accuracy: 0.9023 - val_loss: 0.2745 - val_accuracy: 0.9173\n",
            "Epoch 3/5\n",
            "98/98 [==============================] - 36s 369ms/step - loss: 0.1954 - accuracy: 0.9376 - val_loss: 0.2445 - val_accuracy: 0.9327\n",
            "Epoch 4/5\n",
            "98/98 [==============================] - 34s 350ms/step - loss: 0.1582 - accuracy: 0.9521 - val_loss: 0.2334 - val_accuracy: 0.9386\n",
            "Epoch 5/5\n",
            "98/98 [==============================] - 37s 380ms/step - loss: 0.1413 - accuracy: 0.9583 - val_loss: 0.2283 - val_accuracy: 0.9399\n"
          ]
        },
        {
          "output_type": "execute_result",
          "data": {
            "text/plain": [
              "<keras.callbacks.History at 0x7f90bd24fc10>"
            ]
          },
          "metadata": {},
          "execution_count": 57
        }
      ]
    },
    {
      "cell_type": "code",
      "source": [],
      "metadata": {
        "id": "I7v-Vgjb-PUm"
      },
      "execution_count": null,
      "outputs": []
    }
  ]
}